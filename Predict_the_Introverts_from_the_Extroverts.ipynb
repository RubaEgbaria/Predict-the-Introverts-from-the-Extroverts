{
  "nbformat": 4,
  "nbformat_minor": 0,
  "metadata": {
    "colab": {
      "provenance": [],
      "authorship_tag": "ABX9TyMcCvIeq+sjEPvC+KXdlcFC",
      "include_colab_link": true
    },
    "kernelspec": {
      "name": "python3",
      "display_name": "Python 3"
    },
    "language_info": {
      "name": "python"
    }
  },
  "cells": [
    {
      "cell_type": "markdown",
      "metadata": {
        "id": "view-in-github",
        "colab_type": "text"
      },
      "source": [
        "<a href=\"https://colab.research.google.com/github/RubaEgbaria/Predict-the-Introverts-from-the-Extroverts/blob/master/Predict_the_Introverts_from_the_Extroverts.ipynb\" target=\"_parent\"><img src=\"https://colab.research.google.com/assets/colab-badge.svg\" alt=\"Open In Colab\"/></a>"
      ]
    },
    {
      "cell_type": "markdown",
      "source": [
        "# Predict the Introverts from the Extroverts"
      ],
      "metadata": {
        "id": "mIa7zjSIGIUC"
      }
    },
    {
      "cell_type": "markdown",
      "source": [
        "## Load the Data and show a preview"
      ],
      "metadata": {
        "id": "i-OBi39UXLDg"
      }
    },
    {
      "cell_type": "code",
      "execution_count": 1,
      "metadata": {
        "id": "GcPqvDn-F3GX",
        "colab": {
          "base_uri": "https://localhost:8080/",
          "height": 443
        },
        "outputId": "2d681cf2-9462-4e8c-ece8-37c6d33180f1"
      },
      "outputs": [
        {
          "output_type": "execute_result",
          "data": {
            "text/plain": [
              "          id  Time_spent_Alone Stage_fear  Social_event_attendance  \\\n",
              "0          0               0.0         No                      6.0   \n",
              "1          1               1.0         No                      7.0   \n",
              "2          2               6.0        Yes                      1.0   \n",
              "3          3               3.0         No                      7.0   \n",
              "4          4               1.0         No                      4.0   \n",
              "...      ...               ...        ...                      ...   \n",
              "18519  18519               3.0         No                      7.0   \n",
              "18520  18520               1.0        NaN                      6.0   \n",
              "18521  18521               7.0        Yes                      1.0   \n",
              "18522  18522               NaN        Yes                      1.0   \n",
              "18523  18523               1.0         No                      8.0   \n",
              "\n",
              "       Going_outside Drained_after_socializing  Friends_circle_size  \\\n",
              "0                4.0                        No                 15.0   \n",
              "1                3.0                        No                 10.0   \n",
              "2                0.0                       NaN                  3.0   \n",
              "3                3.0                        No                 11.0   \n",
              "4                4.0                        No                 13.0   \n",
              "...              ...                       ...                  ...   \n",
              "18519            3.0                        No                  9.0   \n",
              "18520            7.0                        No                  6.0   \n",
              "18521            1.0                       Yes                  1.0   \n",
              "18522            0.0                       Yes                  5.0   \n",
              "18523            6.0                        No                  4.0   \n",
              "\n",
              "       Post_frequency Personality  \n",
              "0                 5.0   Extrovert  \n",
              "1                 8.0   Extrovert  \n",
              "2                 0.0   Introvert  \n",
              "3                 5.0   Extrovert  \n",
              "4                 NaN   Extrovert  \n",
              "...               ...         ...  \n",
              "18519             7.0   Extrovert  \n",
              "18520             5.0   Extrovert  \n",
              "18521             NaN   Introvert  \n",
              "18522             2.0   Introvert  \n",
              "18523             7.0   Extrovert  \n",
              "\n",
              "[18524 rows x 9 columns]"
            ],
            "text/html": [
              "\n",
              "  <div id=\"df-d4b8a88f-eabc-49a8-bf61-3ea5abaded70\" class=\"colab-df-container\">\n",
              "    <div>\n",
              "<style scoped>\n",
              "    .dataframe tbody tr th:only-of-type {\n",
              "        vertical-align: middle;\n",
              "    }\n",
              "\n",
              "    .dataframe tbody tr th {\n",
              "        vertical-align: top;\n",
              "    }\n",
              "\n",
              "    .dataframe thead th {\n",
              "        text-align: right;\n",
              "    }\n",
              "</style>\n",
              "<table border=\"1\" class=\"dataframe\">\n",
              "  <thead>\n",
              "    <tr style=\"text-align: right;\">\n",
              "      <th></th>\n",
              "      <th>id</th>\n",
              "      <th>Time_spent_Alone</th>\n",
              "      <th>Stage_fear</th>\n",
              "      <th>Social_event_attendance</th>\n",
              "      <th>Going_outside</th>\n",
              "      <th>Drained_after_socializing</th>\n",
              "      <th>Friends_circle_size</th>\n",
              "      <th>Post_frequency</th>\n",
              "      <th>Personality</th>\n",
              "    </tr>\n",
              "  </thead>\n",
              "  <tbody>\n",
              "    <tr>\n",
              "      <th>0</th>\n",
              "      <td>0</td>\n",
              "      <td>0.0</td>\n",
              "      <td>No</td>\n",
              "      <td>6.0</td>\n",
              "      <td>4.0</td>\n",
              "      <td>No</td>\n",
              "      <td>15.0</td>\n",
              "      <td>5.0</td>\n",
              "      <td>Extrovert</td>\n",
              "    </tr>\n",
              "    <tr>\n",
              "      <th>1</th>\n",
              "      <td>1</td>\n",
              "      <td>1.0</td>\n",
              "      <td>No</td>\n",
              "      <td>7.0</td>\n",
              "      <td>3.0</td>\n",
              "      <td>No</td>\n",
              "      <td>10.0</td>\n",
              "      <td>8.0</td>\n",
              "      <td>Extrovert</td>\n",
              "    </tr>\n",
              "    <tr>\n",
              "      <th>2</th>\n",
              "      <td>2</td>\n",
              "      <td>6.0</td>\n",
              "      <td>Yes</td>\n",
              "      <td>1.0</td>\n",
              "      <td>0.0</td>\n",
              "      <td>NaN</td>\n",
              "      <td>3.0</td>\n",
              "      <td>0.0</td>\n",
              "      <td>Introvert</td>\n",
              "    </tr>\n",
              "    <tr>\n",
              "      <th>3</th>\n",
              "      <td>3</td>\n",
              "      <td>3.0</td>\n",
              "      <td>No</td>\n",
              "      <td>7.0</td>\n",
              "      <td>3.0</td>\n",
              "      <td>No</td>\n",
              "      <td>11.0</td>\n",
              "      <td>5.0</td>\n",
              "      <td>Extrovert</td>\n",
              "    </tr>\n",
              "    <tr>\n",
              "      <th>4</th>\n",
              "      <td>4</td>\n",
              "      <td>1.0</td>\n",
              "      <td>No</td>\n",
              "      <td>4.0</td>\n",
              "      <td>4.0</td>\n",
              "      <td>No</td>\n",
              "      <td>13.0</td>\n",
              "      <td>NaN</td>\n",
              "      <td>Extrovert</td>\n",
              "    </tr>\n",
              "    <tr>\n",
              "      <th>...</th>\n",
              "      <td>...</td>\n",
              "      <td>...</td>\n",
              "      <td>...</td>\n",
              "      <td>...</td>\n",
              "      <td>...</td>\n",
              "      <td>...</td>\n",
              "      <td>...</td>\n",
              "      <td>...</td>\n",
              "      <td>...</td>\n",
              "    </tr>\n",
              "    <tr>\n",
              "      <th>18519</th>\n",
              "      <td>18519</td>\n",
              "      <td>3.0</td>\n",
              "      <td>No</td>\n",
              "      <td>7.0</td>\n",
              "      <td>3.0</td>\n",
              "      <td>No</td>\n",
              "      <td>9.0</td>\n",
              "      <td>7.0</td>\n",
              "      <td>Extrovert</td>\n",
              "    </tr>\n",
              "    <tr>\n",
              "      <th>18520</th>\n",
              "      <td>18520</td>\n",
              "      <td>1.0</td>\n",
              "      <td>NaN</td>\n",
              "      <td>6.0</td>\n",
              "      <td>7.0</td>\n",
              "      <td>No</td>\n",
              "      <td>6.0</td>\n",
              "      <td>5.0</td>\n",
              "      <td>Extrovert</td>\n",
              "    </tr>\n",
              "    <tr>\n",
              "      <th>18521</th>\n",
              "      <td>18521</td>\n",
              "      <td>7.0</td>\n",
              "      <td>Yes</td>\n",
              "      <td>1.0</td>\n",
              "      <td>1.0</td>\n",
              "      <td>Yes</td>\n",
              "      <td>1.0</td>\n",
              "      <td>NaN</td>\n",
              "      <td>Introvert</td>\n",
              "    </tr>\n",
              "    <tr>\n",
              "      <th>18522</th>\n",
              "      <td>18522</td>\n",
              "      <td>NaN</td>\n",
              "      <td>Yes</td>\n",
              "      <td>1.0</td>\n",
              "      <td>0.0</td>\n",
              "      <td>Yes</td>\n",
              "      <td>5.0</td>\n",
              "      <td>2.0</td>\n",
              "      <td>Introvert</td>\n",
              "    </tr>\n",
              "    <tr>\n",
              "      <th>18523</th>\n",
              "      <td>18523</td>\n",
              "      <td>1.0</td>\n",
              "      <td>No</td>\n",
              "      <td>8.0</td>\n",
              "      <td>6.0</td>\n",
              "      <td>No</td>\n",
              "      <td>4.0</td>\n",
              "      <td>7.0</td>\n",
              "      <td>Extrovert</td>\n",
              "    </tr>\n",
              "  </tbody>\n",
              "</table>\n",
              "<p>18524 rows × 9 columns</p>\n",
              "</div>\n",
              "    <div class=\"colab-df-buttons\">\n",
              "\n",
              "  <div class=\"colab-df-container\">\n",
              "    <button class=\"colab-df-convert\" onclick=\"convertToInteractive('df-d4b8a88f-eabc-49a8-bf61-3ea5abaded70')\"\n",
              "            title=\"Convert this dataframe to an interactive table.\"\n",
              "            style=\"display:none;\">\n",
              "\n",
              "  <svg xmlns=\"http://www.w3.org/2000/svg\" height=\"24px\" viewBox=\"0 -960 960 960\">\n",
              "    <path d=\"M120-120v-720h720v720H120Zm60-500h600v-160H180v160Zm220 220h160v-160H400v160Zm0 220h160v-160H400v160ZM180-400h160v-160H180v160Zm440 0h160v-160H620v160ZM180-180h160v-160H180v160Zm440 0h160v-160H620v160Z\"/>\n",
              "  </svg>\n",
              "    </button>\n",
              "\n",
              "  <style>\n",
              "    .colab-df-container {\n",
              "      display:flex;\n",
              "      gap: 12px;\n",
              "    }\n",
              "\n",
              "    .colab-df-convert {\n",
              "      background-color: #E8F0FE;\n",
              "      border: none;\n",
              "      border-radius: 50%;\n",
              "      cursor: pointer;\n",
              "      display: none;\n",
              "      fill: #1967D2;\n",
              "      height: 32px;\n",
              "      padding: 0 0 0 0;\n",
              "      width: 32px;\n",
              "    }\n",
              "\n",
              "    .colab-df-convert:hover {\n",
              "      background-color: #E2EBFA;\n",
              "      box-shadow: 0px 1px 2px rgba(60, 64, 67, 0.3), 0px 1px 3px 1px rgba(60, 64, 67, 0.15);\n",
              "      fill: #174EA6;\n",
              "    }\n",
              "\n",
              "    .colab-df-buttons div {\n",
              "      margin-bottom: 4px;\n",
              "    }\n",
              "\n",
              "    [theme=dark] .colab-df-convert {\n",
              "      background-color: #3B4455;\n",
              "      fill: #D2E3FC;\n",
              "    }\n",
              "\n",
              "    [theme=dark] .colab-df-convert:hover {\n",
              "      background-color: #434B5C;\n",
              "      box-shadow: 0px 1px 3px 1px rgba(0, 0, 0, 0.15);\n",
              "      filter: drop-shadow(0px 1px 2px rgba(0, 0, 0, 0.3));\n",
              "      fill: #FFFFFF;\n",
              "    }\n",
              "  </style>\n",
              "\n",
              "    <script>\n",
              "      const buttonEl =\n",
              "        document.querySelector('#df-d4b8a88f-eabc-49a8-bf61-3ea5abaded70 button.colab-df-convert');\n",
              "      buttonEl.style.display =\n",
              "        google.colab.kernel.accessAllowed ? 'block' : 'none';\n",
              "\n",
              "      async function convertToInteractive(key) {\n",
              "        const element = document.querySelector('#df-d4b8a88f-eabc-49a8-bf61-3ea5abaded70');\n",
              "        const dataTable =\n",
              "          await google.colab.kernel.invokeFunction('convertToInteractive',\n",
              "                                                    [key], {});\n",
              "        if (!dataTable) return;\n",
              "\n",
              "        const docLinkHtml = 'Like what you see? Visit the ' +\n",
              "          '<a target=\"_blank\" href=https://colab.research.google.com/notebooks/data_table.ipynb>data table notebook</a>'\n",
              "          + ' to learn more about interactive tables.';\n",
              "        element.innerHTML = '';\n",
              "        dataTable['output_type'] = 'display_data';\n",
              "        await google.colab.output.renderOutput(dataTable, element);\n",
              "        const docLink = document.createElement('div');\n",
              "        docLink.innerHTML = docLinkHtml;\n",
              "        element.appendChild(docLink);\n",
              "      }\n",
              "    </script>\n",
              "  </div>\n",
              "\n",
              "\n",
              "    <div id=\"df-f2d4619a-fce3-44c5-badb-68f8009dfb6a\">\n",
              "      <button class=\"colab-df-quickchart\" onclick=\"quickchart('df-f2d4619a-fce3-44c5-badb-68f8009dfb6a')\"\n",
              "                title=\"Suggest charts\"\n",
              "                style=\"display:none;\">\n",
              "\n",
              "<svg xmlns=\"http://www.w3.org/2000/svg\" height=\"24px\"viewBox=\"0 0 24 24\"\n",
              "     width=\"24px\">\n",
              "    <g>\n",
              "        <path d=\"M19 3H5c-1.1 0-2 .9-2 2v14c0 1.1.9 2 2 2h14c1.1 0 2-.9 2-2V5c0-1.1-.9-2-2-2zM9 17H7v-7h2v7zm4 0h-2V7h2v10zm4 0h-2v-4h2v4z\"/>\n",
              "    </g>\n",
              "</svg>\n",
              "      </button>\n",
              "\n",
              "<style>\n",
              "  .colab-df-quickchart {\n",
              "      --bg-color: #E8F0FE;\n",
              "      --fill-color: #1967D2;\n",
              "      --hover-bg-color: #E2EBFA;\n",
              "      --hover-fill-color: #174EA6;\n",
              "      --disabled-fill-color: #AAA;\n",
              "      --disabled-bg-color: #DDD;\n",
              "  }\n",
              "\n",
              "  [theme=dark] .colab-df-quickchart {\n",
              "      --bg-color: #3B4455;\n",
              "      --fill-color: #D2E3FC;\n",
              "      --hover-bg-color: #434B5C;\n",
              "      --hover-fill-color: #FFFFFF;\n",
              "      --disabled-bg-color: #3B4455;\n",
              "      --disabled-fill-color: #666;\n",
              "  }\n",
              "\n",
              "  .colab-df-quickchart {\n",
              "    background-color: var(--bg-color);\n",
              "    border: none;\n",
              "    border-radius: 50%;\n",
              "    cursor: pointer;\n",
              "    display: none;\n",
              "    fill: var(--fill-color);\n",
              "    height: 32px;\n",
              "    padding: 0;\n",
              "    width: 32px;\n",
              "  }\n",
              "\n",
              "  .colab-df-quickchart:hover {\n",
              "    background-color: var(--hover-bg-color);\n",
              "    box-shadow: 0 1px 2px rgba(60, 64, 67, 0.3), 0 1px 3px 1px rgba(60, 64, 67, 0.15);\n",
              "    fill: var(--button-hover-fill-color);\n",
              "  }\n",
              "\n",
              "  .colab-df-quickchart-complete:disabled,\n",
              "  .colab-df-quickchart-complete:disabled:hover {\n",
              "    background-color: var(--disabled-bg-color);\n",
              "    fill: var(--disabled-fill-color);\n",
              "    box-shadow: none;\n",
              "  }\n",
              "\n",
              "  .colab-df-spinner {\n",
              "    border: 2px solid var(--fill-color);\n",
              "    border-color: transparent;\n",
              "    border-bottom-color: var(--fill-color);\n",
              "    animation:\n",
              "      spin 1s steps(1) infinite;\n",
              "  }\n",
              "\n",
              "  @keyframes spin {\n",
              "    0% {\n",
              "      border-color: transparent;\n",
              "      border-bottom-color: var(--fill-color);\n",
              "      border-left-color: var(--fill-color);\n",
              "    }\n",
              "    20% {\n",
              "      border-color: transparent;\n",
              "      border-left-color: var(--fill-color);\n",
              "      border-top-color: var(--fill-color);\n",
              "    }\n",
              "    30% {\n",
              "      border-color: transparent;\n",
              "      border-left-color: var(--fill-color);\n",
              "      border-top-color: var(--fill-color);\n",
              "      border-right-color: var(--fill-color);\n",
              "    }\n",
              "    40% {\n",
              "      border-color: transparent;\n",
              "      border-right-color: var(--fill-color);\n",
              "      border-top-color: var(--fill-color);\n",
              "    }\n",
              "    60% {\n",
              "      border-color: transparent;\n",
              "      border-right-color: var(--fill-color);\n",
              "    }\n",
              "    80% {\n",
              "      border-color: transparent;\n",
              "      border-right-color: var(--fill-color);\n",
              "      border-bottom-color: var(--fill-color);\n",
              "    }\n",
              "    90% {\n",
              "      border-color: transparent;\n",
              "      border-bottom-color: var(--fill-color);\n",
              "    }\n",
              "  }\n",
              "</style>\n",
              "\n",
              "      <script>\n",
              "        async function quickchart(key) {\n",
              "          const quickchartButtonEl =\n",
              "            document.querySelector('#' + key + ' button');\n",
              "          quickchartButtonEl.disabled = true;  // To prevent multiple clicks.\n",
              "          quickchartButtonEl.classList.add('colab-df-spinner');\n",
              "          try {\n",
              "            const charts = await google.colab.kernel.invokeFunction(\n",
              "                'suggestCharts', [key], {});\n",
              "          } catch (error) {\n",
              "            console.error('Error during call to suggestCharts:', error);\n",
              "          }\n",
              "          quickchartButtonEl.classList.remove('colab-df-spinner');\n",
              "          quickchartButtonEl.classList.add('colab-df-quickchart-complete');\n",
              "        }\n",
              "        (() => {\n",
              "          let quickchartButtonEl =\n",
              "            document.querySelector('#df-f2d4619a-fce3-44c5-badb-68f8009dfb6a button');\n",
              "          quickchartButtonEl.style.display =\n",
              "            google.colab.kernel.accessAllowed ? 'block' : 'none';\n",
              "        })();\n",
              "      </script>\n",
              "    </div>\n",
              "\n",
              "  <div id=\"id_102a3c23-d439-4a41-8d43-f0d39620c0c1\">\n",
              "    <style>\n",
              "      .colab-df-generate {\n",
              "        background-color: #E8F0FE;\n",
              "        border: none;\n",
              "        border-radius: 50%;\n",
              "        cursor: pointer;\n",
              "        display: none;\n",
              "        fill: #1967D2;\n",
              "        height: 32px;\n",
              "        padding: 0 0 0 0;\n",
              "        width: 32px;\n",
              "      }\n",
              "\n",
              "      .colab-df-generate:hover {\n",
              "        background-color: #E2EBFA;\n",
              "        box-shadow: 0px 1px 2px rgba(60, 64, 67, 0.3), 0px 1px 3px 1px rgba(60, 64, 67, 0.15);\n",
              "        fill: #174EA6;\n",
              "      }\n",
              "\n",
              "      [theme=dark] .colab-df-generate {\n",
              "        background-color: #3B4455;\n",
              "        fill: #D2E3FC;\n",
              "      }\n",
              "\n",
              "      [theme=dark] .colab-df-generate:hover {\n",
              "        background-color: #434B5C;\n",
              "        box-shadow: 0px 1px 3px 1px rgba(0, 0, 0, 0.15);\n",
              "        filter: drop-shadow(0px 1px 2px rgba(0, 0, 0, 0.3));\n",
              "        fill: #FFFFFF;\n",
              "      }\n",
              "    </style>\n",
              "    <button class=\"colab-df-generate\" onclick=\"generateWithVariable('data')\"\n",
              "            title=\"Generate code using this dataframe.\"\n",
              "            style=\"display:none;\">\n",
              "\n",
              "  <svg xmlns=\"http://www.w3.org/2000/svg\" height=\"24px\"viewBox=\"0 0 24 24\"\n",
              "       width=\"24px\">\n",
              "    <path d=\"M7,19H8.4L18.45,9,17,7.55,7,17.6ZM5,21V16.75L18.45,3.32a2,2,0,0,1,2.83,0l1.4,1.43a1.91,1.91,0,0,1,.58,1.4,1.91,1.91,0,0,1-.58,1.4L9.25,21ZM18.45,9,17,7.55Zm-12,3A5.31,5.31,0,0,0,4.9,8.1,5.31,5.31,0,0,0,1,6.5,5.31,5.31,0,0,0,4.9,4.9,5.31,5.31,0,0,0,6.5,1,5.31,5.31,0,0,0,8.1,4.9,5.31,5.31,0,0,0,12,6.5,5.46,5.46,0,0,0,6.5,12Z\"/>\n",
              "  </svg>\n",
              "    </button>\n",
              "    <script>\n",
              "      (() => {\n",
              "      const buttonEl =\n",
              "        document.querySelector('#id_102a3c23-d439-4a41-8d43-f0d39620c0c1 button.colab-df-generate');\n",
              "      buttonEl.style.display =\n",
              "        google.colab.kernel.accessAllowed ? 'block' : 'none';\n",
              "\n",
              "      buttonEl.onclick = () => {\n",
              "        google.colab.notebook.generateWithVariable('data');\n",
              "      }\n",
              "      })();\n",
              "    </script>\n",
              "  </div>\n",
              "\n",
              "    </div>\n",
              "  </div>\n"
            ],
            "application/vnd.google.colaboratory.intrinsic+json": {
              "type": "dataframe",
              "variable_name": "data",
              "summary": "{\n  \"name\": \"data\",\n  \"rows\": 18524,\n  \"fields\": [\n    {\n      \"column\": \"id\",\n      \"properties\": {\n        \"dtype\": \"number\",\n        \"std\": 5347,\n        \"min\": 0,\n        \"max\": 18523,\n        \"num_unique_values\": 18524,\n        \"samples\": [\n          13209,\n          2740,\n          10249\n        ],\n        \"semantic_type\": \"\",\n        \"description\": \"\"\n      }\n    },\n    {\n      \"column\": \"Time_spent_Alone\",\n      \"properties\": {\n        \"dtype\": \"number\",\n        \"std\": 3.003786334721924,\n        \"min\": 0.0,\n        \"max\": 11.0,\n        \"num_unique_values\": 12,\n        \"samples\": [\n          8.0,\n          7.0,\n          0.0\n        ],\n        \"semantic_type\": \"\",\n        \"description\": \"\"\n      }\n    },\n    {\n      \"column\": \"Stage_fear\",\n      \"properties\": {\n        \"dtype\": \"category\",\n        \"num_unique_values\": 2,\n        \"samples\": [\n          \"Yes\",\n          \"No\"\n        ],\n        \"semantic_type\": \"\",\n        \"description\": \"\"\n      }\n    },\n    {\n      \"column\": \"Social_event_attendance\",\n      \"properties\": {\n        \"dtype\": \"number\",\n        \"std\": 2.7533590604408937,\n        \"min\": 0.0,\n        \"max\": 10.0,\n        \"num_unique_values\": 11,\n        \"samples\": [\n          2.0,\n          6.0\n        ],\n        \"semantic_type\": \"\",\n        \"description\": \"\"\n      }\n    },\n    {\n      \"column\": \"Going_outside\",\n      \"properties\": {\n        \"dtype\": \"number\",\n        \"std\": 2.0625798113009184,\n        \"min\": 0.0,\n        \"max\": 7.0,\n        \"num_unique_values\": 8,\n        \"samples\": [\n          3.0,\n          6.0\n        ],\n        \"semantic_type\": \"\",\n        \"description\": \"\"\n      }\n    },\n    {\n      \"column\": \"Drained_after_socializing\",\n      \"properties\": {\n        \"dtype\": \"category\",\n        \"num_unique_values\": 2,\n        \"samples\": [\n          \"Yes\",\n          \"No\"\n        ],\n        \"semantic_type\": \"\",\n        \"description\": \"\"\n      }\n    },\n    {\n      \"column\": \"Friends_circle_size\",\n      \"properties\": {\n        \"dtype\": \"number\",\n        \"std\": 4.223483912812501,\n        \"min\": 0.0,\n        \"max\": 15.0,\n        \"num_unique_values\": 16,\n        \"samples\": [\n          15.0,\n          10.0\n        ],\n        \"semantic_type\": \"\",\n        \"description\": \"\"\n      }\n    },\n    {\n      \"column\": \"Post_frequency\",\n      \"properties\": {\n        \"dtype\": \"number\",\n        \"std\": 2.8791389927175848,\n        \"min\": 0.0,\n        \"max\": 10.0,\n        \"num_unique_values\": 11,\n        \"samples\": [\n          2.0,\n          5.0\n        ],\n        \"semantic_type\": \"\",\n        \"description\": \"\"\n      }\n    },\n    {\n      \"column\": \"Personality\",\n      \"properties\": {\n        \"dtype\": \"category\",\n        \"num_unique_values\": 2,\n        \"samples\": [\n          \"Introvert\",\n          \"Extrovert\"\n        ],\n        \"semantic_type\": \"\",\n        \"description\": \"\"\n      }\n    }\n  ]\n}"
            }
          },
          "metadata": {},
          "execution_count": 1
        }
      ],
      "source": [
        "import pandas as pd\n",
        "\n",
        "data = pd.read_csv(\"train.csv\")\n",
        "data"
      ]
    },
    {
      "cell_type": "markdown",
      "source": [
        "## Identifying and Handling Missing Values"
      ],
      "metadata": {
        "id": "_asvT5baIH5x"
      }
    },
    {
      "cell_type": "code",
      "source": [
        "data.isnull().sum()"
      ],
      "metadata": {
        "id": "KEYyU-YZHHjD",
        "colab": {
          "base_uri": "https://localhost:8080/",
          "height": 366
        },
        "outputId": "d7e410a2-a8e1-4c78-d49c-e384e03720e5"
      },
      "execution_count": 2,
      "outputs": [
        {
          "output_type": "execute_result",
          "data": {
            "text/plain": [
              "id                              0\n",
              "Time_spent_Alone             1190\n",
              "Stage_fear                   1893\n",
              "Social_event_attendance      1180\n",
              "Going_outside                1466\n",
              "Drained_after_socializing    1149\n",
              "Friends_circle_size          1054\n",
              "Post_frequency               1264\n",
              "Personality                     0\n",
              "dtype: int64"
            ],
            "text/html": [
              "<div>\n",
              "<style scoped>\n",
              "    .dataframe tbody tr th:only-of-type {\n",
              "        vertical-align: middle;\n",
              "    }\n",
              "\n",
              "    .dataframe tbody tr th {\n",
              "        vertical-align: top;\n",
              "    }\n",
              "\n",
              "    .dataframe thead th {\n",
              "        text-align: right;\n",
              "    }\n",
              "</style>\n",
              "<table border=\"1\" class=\"dataframe\">\n",
              "  <thead>\n",
              "    <tr style=\"text-align: right;\">\n",
              "      <th></th>\n",
              "      <th>0</th>\n",
              "    </tr>\n",
              "  </thead>\n",
              "  <tbody>\n",
              "    <tr>\n",
              "      <th>id</th>\n",
              "      <td>0</td>\n",
              "    </tr>\n",
              "    <tr>\n",
              "      <th>Time_spent_Alone</th>\n",
              "      <td>1190</td>\n",
              "    </tr>\n",
              "    <tr>\n",
              "      <th>Stage_fear</th>\n",
              "      <td>1893</td>\n",
              "    </tr>\n",
              "    <tr>\n",
              "      <th>Social_event_attendance</th>\n",
              "      <td>1180</td>\n",
              "    </tr>\n",
              "    <tr>\n",
              "      <th>Going_outside</th>\n",
              "      <td>1466</td>\n",
              "    </tr>\n",
              "    <tr>\n",
              "      <th>Drained_after_socializing</th>\n",
              "      <td>1149</td>\n",
              "    </tr>\n",
              "    <tr>\n",
              "      <th>Friends_circle_size</th>\n",
              "      <td>1054</td>\n",
              "    </tr>\n",
              "    <tr>\n",
              "      <th>Post_frequency</th>\n",
              "      <td>1264</td>\n",
              "    </tr>\n",
              "    <tr>\n",
              "      <th>Personality</th>\n",
              "      <td>0</td>\n",
              "    </tr>\n",
              "  </tbody>\n",
              "</table>\n",
              "</div><br><label><b>dtype:</b> int64</label>"
            ]
          },
          "metadata": {},
          "execution_count": 2
        }
      ]
    },
    {
      "cell_type": "code",
      "source": [
        "data.info()"
      ],
      "metadata": {
        "id": "NiAk4dwfLaIa",
        "colab": {
          "base_uri": "https://localhost:8080/"
        },
        "outputId": "5121ddd6-afc8-4a92-80e6-c34548c9bdba"
      },
      "execution_count": 3,
      "outputs": [
        {
          "output_type": "stream",
          "name": "stdout",
          "text": [
            "<class 'pandas.core.frame.DataFrame'>\n",
            "RangeIndex: 18524 entries, 0 to 18523\n",
            "Data columns (total 9 columns):\n",
            " #   Column                     Non-Null Count  Dtype  \n",
            "---  ------                     --------------  -----  \n",
            " 0   id                         18524 non-null  int64  \n",
            " 1   Time_spent_Alone           17334 non-null  float64\n",
            " 2   Stage_fear                 16631 non-null  object \n",
            " 3   Social_event_attendance    17344 non-null  float64\n",
            " 4   Going_outside              17058 non-null  float64\n",
            " 5   Drained_after_socializing  17375 non-null  object \n",
            " 6   Friends_circle_size        17470 non-null  float64\n",
            " 7   Post_frequency             17260 non-null  float64\n",
            " 8   Personality                18524 non-null  object \n",
            "dtypes: float64(5), int64(1), object(3)\n",
            "memory usage: 1.3+ MB\n"
          ]
        }
      ]
    },
    {
      "cell_type": "code",
      "source": [
        "data.describe().T.style.background_gradient(cmap='Reds')"
      ],
      "metadata": {
        "id": "orZDW8NrMT0M",
        "colab": {
          "base_uri": "https://localhost:8080/",
          "height": 237
        },
        "outputId": "45ce76b2-3d56-4044-9509-c112f8b195a1"
      },
      "execution_count": 4,
      "outputs": [
        {
          "output_type": "execute_result",
          "data": {
            "text/plain": [
              "<pandas.io.formats.style.Styler at 0x7b0a6cc25b10>"
            ],
            "text/html": [
              "<style type=\"text/css\">\n",
              "#T_9608f_row0_col0, #T_9608f_row0_col1, #T_9608f_row0_col2, #T_9608f_row0_col4, #T_9608f_row0_col5, #T_9608f_row0_col6, #T_9608f_row0_col7 {\n",
              "  background-color: #67000d;\n",
              "  color: #f1f1f1;\n",
              "}\n",
              "#T_9608f_row0_col3, #T_9608f_row1_col1, #T_9608f_row1_col2, #T_9608f_row1_col3, #T_9608f_row1_col4, #T_9608f_row1_col5, #T_9608f_row1_col6, #T_9608f_row1_col7, #T_9608f_row2_col1, #T_9608f_row2_col2, #T_9608f_row2_col3, #T_9608f_row2_col4, #T_9608f_row2_col5, #T_9608f_row2_col6, #T_9608f_row2_col7, #T_9608f_row3_col0, #T_9608f_row3_col1, #T_9608f_row3_col2, #T_9608f_row3_col3, #T_9608f_row3_col4, #T_9608f_row3_col5, #T_9608f_row3_col6, #T_9608f_row3_col7, #T_9608f_row4_col1, #T_9608f_row4_col2, #T_9608f_row4_col3, #T_9608f_row4_col4, #T_9608f_row4_col5, #T_9608f_row4_col6, #T_9608f_row4_col7, #T_9608f_row5_col1, #T_9608f_row5_col2, #T_9608f_row5_col3, #T_9608f_row5_col4, #T_9608f_row5_col5, #T_9608f_row5_col6, #T_9608f_row5_col7 {\n",
              "  background-color: #fff5f0;\n",
              "  color: #000000;\n",
              "}\n",
              "#T_9608f_row1_col0 {\n",
              "  background-color: #fdcdb9;\n",
              "  color: #000000;\n",
              "}\n",
              "#T_9608f_row2_col0 {\n",
              "  background-color: #fdccb8;\n",
              "  color: #000000;\n",
              "}\n",
              "#T_9608f_row4_col0 {\n",
              "  background-color: #fcb296;\n",
              "  color: #000000;\n",
              "}\n",
              "#T_9608f_row5_col0 {\n",
              "  background-color: #fedccd;\n",
              "  color: #000000;\n",
              "}\n",
              "</style>\n",
              "<table id=\"T_9608f\" class=\"dataframe\">\n",
              "  <thead>\n",
              "    <tr>\n",
              "      <th class=\"blank level0\" >&nbsp;</th>\n",
              "      <th id=\"T_9608f_level0_col0\" class=\"col_heading level0 col0\" >count</th>\n",
              "      <th id=\"T_9608f_level0_col1\" class=\"col_heading level0 col1\" >mean</th>\n",
              "      <th id=\"T_9608f_level0_col2\" class=\"col_heading level0 col2\" >std</th>\n",
              "      <th id=\"T_9608f_level0_col3\" class=\"col_heading level0 col3\" >min</th>\n",
              "      <th id=\"T_9608f_level0_col4\" class=\"col_heading level0 col4\" >25%</th>\n",
              "      <th id=\"T_9608f_level0_col5\" class=\"col_heading level0 col5\" >50%</th>\n",
              "      <th id=\"T_9608f_level0_col6\" class=\"col_heading level0 col6\" >75%</th>\n",
              "      <th id=\"T_9608f_level0_col7\" class=\"col_heading level0 col7\" >max</th>\n",
              "    </tr>\n",
              "  </thead>\n",
              "  <tbody>\n",
              "    <tr>\n",
              "      <th id=\"T_9608f_level0_row0\" class=\"row_heading level0 row0\" >id</th>\n",
              "      <td id=\"T_9608f_row0_col0\" class=\"data row0 col0\" >18524.000000</td>\n",
              "      <td id=\"T_9608f_row0_col1\" class=\"data row0 col1\" >9261.500000</td>\n",
              "      <td id=\"T_9608f_row0_col2\" class=\"data row0 col2\" >5347.562529</td>\n",
              "      <td id=\"T_9608f_row0_col3\" class=\"data row0 col3\" >0.000000</td>\n",
              "      <td id=\"T_9608f_row0_col4\" class=\"data row0 col4\" >4630.750000</td>\n",
              "      <td id=\"T_9608f_row0_col5\" class=\"data row0 col5\" >9261.500000</td>\n",
              "      <td id=\"T_9608f_row0_col6\" class=\"data row0 col6\" >13892.250000</td>\n",
              "      <td id=\"T_9608f_row0_col7\" class=\"data row0 col7\" >18523.000000</td>\n",
              "    </tr>\n",
              "    <tr>\n",
              "      <th id=\"T_9608f_level0_row1\" class=\"row_heading level0 row1\" >Time_spent_Alone</th>\n",
              "      <td id=\"T_9608f_row1_col0\" class=\"data row1 col0\" >17334.000000</td>\n",
              "      <td id=\"T_9608f_row1_col1\" class=\"data row1 col1\" >3.137764</td>\n",
              "      <td id=\"T_9608f_row1_col2\" class=\"data row1 col2\" >3.003786</td>\n",
              "      <td id=\"T_9608f_row1_col3\" class=\"data row1 col3\" >0.000000</td>\n",
              "      <td id=\"T_9608f_row1_col4\" class=\"data row1 col4\" >1.000000</td>\n",
              "      <td id=\"T_9608f_row1_col5\" class=\"data row1 col5\" >2.000000</td>\n",
              "      <td id=\"T_9608f_row1_col6\" class=\"data row1 col6\" >4.000000</td>\n",
              "      <td id=\"T_9608f_row1_col7\" class=\"data row1 col7\" >11.000000</td>\n",
              "    </tr>\n",
              "    <tr>\n",
              "      <th id=\"T_9608f_level0_row2\" class=\"row_heading level0 row2\" >Social_event_attendance</th>\n",
              "      <td id=\"T_9608f_row2_col0\" class=\"data row2 col0\" >17344.000000</td>\n",
              "      <td id=\"T_9608f_row2_col1\" class=\"data row2 col1\" >5.265106</td>\n",
              "      <td id=\"T_9608f_row2_col2\" class=\"data row2 col2\" >2.753359</td>\n",
              "      <td id=\"T_9608f_row2_col3\" class=\"data row2 col3\" >0.000000</td>\n",
              "      <td id=\"T_9608f_row2_col4\" class=\"data row2 col4\" >3.000000</td>\n",
              "      <td id=\"T_9608f_row2_col5\" class=\"data row2 col5\" >5.000000</td>\n",
              "      <td id=\"T_9608f_row2_col6\" class=\"data row2 col6\" >8.000000</td>\n",
              "      <td id=\"T_9608f_row2_col7\" class=\"data row2 col7\" >10.000000</td>\n",
              "    </tr>\n",
              "    <tr>\n",
              "      <th id=\"T_9608f_level0_row3\" class=\"row_heading level0 row3\" >Going_outside</th>\n",
              "      <td id=\"T_9608f_row3_col0\" class=\"data row3 col0\" >17058.000000</td>\n",
              "      <td id=\"T_9608f_row3_col1\" class=\"data row3 col1\" >4.044319</td>\n",
              "      <td id=\"T_9608f_row3_col2\" class=\"data row3 col2\" >2.062580</td>\n",
              "      <td id=\"T_9608f_row3_col3\" class=\"data row3 col3\" >0.000000</td>\n",
              "      <td id=\"T_9608f_row3_col4\" class=\"data row3 col4\" >3.000000</td>\n",
              "      <td id=\"T_9608f_row3_col5\" class=\"data row3 col5\" >4.000000</td>\n",
              "      <td id=\"T_9608f_row3_col6\" class=\"data row3 col6\" >6.000000</td>\n",
              "      <td id=\"T_9608f_row3_col7\" class=\"data row3 col7\" >7.000000</td>\n",
              "    </tr>\n",
              "    <tr>\n",
              "      <th id=\"T_9608f_level0_row4\" class=\"row_heading level0 row4\" >Friends_circle_size</th>\n",
              "      <td id=\"T_9608f_row4_col0\" class=\"data row4 col0\" >17470.000000</td>\n",
              "      <td id=\"T_9608f_row4_col1\" class=\"data row4 col1\" >7.996737</td>\n",
              "      <td id=\"T_9608f_row4_col2\" class=\"data row4 col2\" >4.223484</td>\n",
              "      <td id=\"T_9608f_row4_col3\" class=\"data row4 col3\" >0.000000</td>\n",
              "      <td id=\"T_9608f_row4_col4\" class=\"data row4 col4\" >5.000000</td>\n",
              "      <td id=\"T_9608f_row4_col5\" class=\"data row4 col5\" >8.000000</td>\n",
              "      <td id=\"T_9608f_row4_col6\" class=\"data row4 col6\" >12.000000</td>\n",
              "      <td id=\"T_9608f_row4_col7\" class=\"data row4 col7\" >15.000000</td>\n",
              "    </tr>\n",
              "    <tr>\n",
              "      <th id=\"T_9608f_level0_row5\" class=\"row_heading level0 row5\" >Post_frequency</th>\n",
              "      <td id=\"T_9608f_row5_col0\" class=\"data row5 col0\" >17260.000000</td>\n",
              "      <td id=\"T_9608f_row5_col1\" class=\"data row5 col1\" >4.982097</td>\n",
              "      <td id=\"T_9608f_row5_col2\" class=\"data row5 col2\" >2.879139</td>\n",
              "      <td id=\"T_9608f_row5_col3\" class=\"data row5 col3\" >0.000000</td>\n",
              "      <td id=\"T_9608f_row5_col4\" class=\"data row5 col4\" >3.000000</td>\n",
              "      <td id=\"T_9608f_row5_col5\" class=\"data row5 col5\" >5.000000</td>\n",
              "      <td id=\"T_9608f_row5_col6\" class=\"data row5 col6\" >7.000000</td>\n",
              "      <td id=\"T_9608f_row5_col7\" class=\"data row5 col7\" >10.000000</td>\n",
              "    </tr>\n",
              "  </tbody>\n",
              "</table>\n"
            ]
          },
          "metadata": {},
          "execution_count": 4
        }
      ]
    },
    {
      "cell_type": "markdown",
      "source": [
        "Creating new class 'None' for both Stage_fear and Drained_after_socializing"
      ],
      "metadata": {
        "id": "i7zcWrFqR3bT"
      }
    },
    {
      "cell_type": "code",
      "source": [
        "data['Stage_fear'] = data['Stage_fear'].fillna('None')\n",
        "data['Drained_after_socializing'] = data['Drained_after_socializing'].fillna('None')"
      ],
      "metadata": {
        "id": "A0rPTHw6RSFb"
      },
      "execution_count": 5,
      "outputs": []
    },
    {
      "cell_type": "markdown",
      "source": [
        "Drop unneeded feature ID as it just refer to the identity"
      ],
      "metadata": {
        "id": "Gne-42AMRRPl"
      }
    },
    {
      "cell_type": "code",
      "source": [
        "data = data.dropna(subset=['id'])"
      ],
      "metadata": {
        "id": "XiM8UY3USBp3"
      },
      "execution_count": 6,
      "outputs": []
    },
    {
      "cell_type": "markdown",
      "source": [
        "Fill numeric values by the mean value of each parameter"
      ],
      "metadata": {
        "id": "lgNfWMm7SOPJ"
      }
    },
    {
      "cell_type": "code",
      "source": [
        "data['Time_spent_Alone'] = data['Time_spent_Alone'].fillna(data['Time_spent_Alone'].mean())\n",
        "data['Social_event_attendance'] = data['Social_event_attendance'].fillna(data['Social_event_attendance'].mean())\n",
        "data['Going_outside'] = data['Going_outside'].fillna(data['Going_outside'].mean())\n",
        "data['Friends_circle_size'] = data['Friends_circle_size'].fillna(data['Friends_circle_size'].mean())\n",
        "data['Post_frequency'] = data['Post_frequency'].fillna(data['Post_frequency'].mean())"
      ],
      "metadata": {
        "id": "bB9TaybESTdy"
      },
      "execution_count": 7,
      "outputs": []
    },
    {
      "cell_type": "markdown",
      "source": [
        "check data after handling missing values"
      ],
      "metadata": {
        "id": "MiU108DZSnWF"
      }
    },
    {
      "cell_type": "code",
      "source": [
        "data.isnull().sum()"
      ],
      "metadata": {
        "id": "rxHqKk9ESscR",
        "colab": {
          "base_uri": "https://localhost:8080/",
          "height": 366
        },
        "outputId": "316810f9-393e-49ed-ae71-b44f1c3c31dd"
      },
      "execution_count": 8,
      "outputs": [
        {
          "output_type": "execute_result",
          "data": {
            "text/plain": [
              "id                           0\n",
              "Time_spent_Alone             0\n",
              "Stage_fear                   0\n",
              "Social_event_attendance      0\n",
              "Going_outside                0\n",
              "Drained_after_socializing    0\n",
              "Friends_circle_size          0\n",
              "Post_frequency               0\n",
              "Personality                  0\n",
              "dtype: int64"
            ],
            "text/html": [
              "<div>\n",
              "<style scoped>\n",
              "    .dataframe tbody tr th:only-of-type {\n",
              "        vertical-align: middle;\n",
              "    }\n",
              "\n",
              "    .dataframe tbody tr th {\n",
              "        vertical-align: top;\n",
              "    }\n",
              "\n",
              "    .dataframe thead th {\n",
              "        text-align: right;\n",
              "    }\n",
              "</style>\n",
              "<table border=\"1\" class=\"dataframe\">\n",
              "  <thead>\n",
              "    <tr style=\"text-align: right;\">\n",
              "      <th></th>\n",
              "      <th>0</th>\n",
              "    </tr>\n",
              "  </thead>\n",
              "  <tbody>\n",
              "    <tr>\n",
              "      <th>id</th>\n",
              "      <td>0</td>\n",
              "    </tr>\n",
              "    <tr>\n",
              "      <th>Time_spent_Alone</th>\n",
              "      <td>0</td>\n",
              "    </tr>\n",
              "    <tr>\n",
              "      <th>Stage_fear</th>\n",
              "      <td>0</td>\n",
              "    </tr>\n",
              "    <tr>\n",
              "      <th>Social_event_attendance</th>\n",
              "      <td>0</td>\n",
              "    </tr>\n",
              "    <tr>\n",
              "      <th>Going_outside</th>\n",
              "      <td>0</td>\n",
              "    </tr>\n",
              "    <tr>\n",
              "      <th>Drained_after_socializing</th>\n",
              "      <td>0</td>\n",
              "    </tr>\n",
              "    <tr>\n",
              "      <th>Friends_circle_size</th>\n",
              "      <td>0</td>\n",
              "    </tr>\n",
              "    <tr>\n",
              "      <th>Post_frequency</th>\n",
              "      <td>0</td>\n",
              "    </tr>\n",
              "    <tr>\n",
              "      <th>Personality</th>\n",
              "      <td>0</td>\n",
              "    </tr>\n",
              "  </tbody>\n",
              "</table>\n",
              "</div><br><label><b>dtype:</b> int64</label>"
            ]
          },
          "metadata": {},
          "execution_count": 8
        }
      ]
    },
    {
      "cell_type": "code",
      "source": [
        "data.describe().T.style.background_gradient(cmap='Reds')"
      ],
      "metadata": {
        "id": "6KDpSSebSxfR",
        "colab": {
          "base_uri": "https://localhost:8080/",
          "height": 237
        },
        "outputId": "e6b34f36-950c-4ce9-a5d8-132ce3d16990"
      },
      "execution_count": 9,
      "outputs": [
        {
          "output_type": "execute_result",
          "data": {
            "text/plain": [
              "<pandas.io.formats.style.Styler at 0x7b0a67bac6d0>"
            ],
            "text/html": [
              "<style type=\"text/css\">\n",
              "#T_304f1_row0_col0, #T_304f1_row0_col3, #T_304f1_row1_col0, #T_304f1_row1_col1, #T_304f1_row1_col2, #T_304f1_row1_col3, #T_304f1_row1_col4, #T_304f1_row1_col5, #T_304f1_row1_col6, #T_304f1_row1_col7, #T_304f1_row2_col0, #T_304f1_row2_col1, #T_304f1_row2_col2, #T_304f1_row2_col3, #T_304f1_row2_col4, #T_304f1_row2_col5, #T_304f1_row2_col6, #T_304f1_row2_col7, #T_304f1_row3_col0, #T_304f1_row3_col1, #T_304f1_row3_col2, #T_304f1_row3_col3, #T_304f1_row3_col4, #T_304f1_row3_col5, #T_304f1_row3_col6, #T_304f1_row3_col7, #T_304f1_row4_col0, #T_304f1_row4_col1, #T_304f1_row4_col2, #T_304f1_row4_col3, #T_304f1_row4_col4, #T_304f1_row4_col5, #T_304f1_row4_col6, #T_304f1_row4_col7, #T_304f1_row5_col0, #T_304f1_row5_col1, #T_304f1_row5_col2, #T_304f1_row5_col3, #T_304f1_row5_col4, #T_304f1_row5_col5, #T_304f1_row5_col6, #T_304f1_row5_col7 {\n",
              "  background-color: #fff5f0;\n",
              "  color: #000000;\n",
              "}\n",
              "#T_304f1_row0_col1, #T_304f1_row0_col2, #T_304f1_row0_col4, #T_304f1_row0_col5, #T_304f1_row0_col6, #T_304f1_row0_col7 {\n",
              "  background-color: #67000d;\n",
              "  color: #f1f1f1;\n",
              "}\n",
              "</style>\n",
              "<table id=\"T_304f1\" class=\"dataframe\">\n",
              "  <thead>\n",
              "    <tr>\n",
              "      <th class=\"blank level0\" >&nbsp;</th>\n",
              "      <th id=\"T_304f1_level0_col0\" class=\"col_heading level0 col0\" >count</th>\n",
              "      <th id=\"T_304f1_level0_col1\" class=\"col_heading level0 col1\" >mean</th>\n",
              "      <th id=\"T_304f1_level0_col2\" class=\"col_heading level0 col2\" >std</th>\n",
              "      <th id=\"T_304f1_level0_col3\" class=\"col_heading level0 col3\" >min</th>\n",
              "      <th id=\"T_304f1_level0_col4\" class=\"col_heading level0 col4\" >25%</th>\n",
              "      <th id=\"T_304f1_level0_col5\" class=\"col_heading level0 col5\" >50%</th>\n",
              "      <th id=\"T_304f1_level0_col6\" class=\"col_heading level0 col6\" >75%</th>\n",
              "      <th id=\"T_304f1_level0_col7\" class=\"col_heading level0 col7\" >max</th>\n",
              "    </tr>\n",
              "  </thead>\n",
              "  <tbody>\n",
              "    <tr>\n",
              "      <th id=\"T_304f1_level0_row0\" class=\"row_heading level0 row0\" >id</th>\n",
              "      <td id=\"T_304f1_row0_col0\" class=\"data row0 col0\" >18524.000000</td>\n",
              "      <td id=\"T_304f1_row0_col1\" class=\"data row0 col1\" >9261.500000</td>\n",
              "      <td id=\"T_304f1_row0_col2\" class=\"data row0 col2\" >5347.562529</td>\n",
              "      <td id=\"T_304f1_row0_col3\" class=\"data row0 col3\" >0.000000</td>\n",
              "      <td id=\"T_304f1_row0_col4\" class=\"data row0 col4\" >4630.750000</td>\n",
              "      <td id=\"T_304f1_row0_col5\" class=\"data row0 col5\" >9261.500000</td>\n",
              "      <td id=\"T_304f1_row0_col6\" class=\"data row0 col6\" >13892.250000</td>\n",
              "      <td id=\"T_304f1_row0_col7\" class=\"data row0 col7\" >18523.000000</td>\n",
              "    </tr>\n",
              "    <tr>\n",
              "      <th id=\"T_304f1_level0_row1\" class=\"row_heading level0 row1\" >Time_spent_Alone</th>\n",
              "      <td id=\"T_304f1_row1_col0\" class=\"data row1 col0\" >18524.000000</td>\n",
              "      <td id=\"T_304f1_row1_col1\" class=\"data row1 col1\" >3.137764</td>\n",
              "      <td id=\"T_304f1_row1_col2\" class=\"data row1 col2\" >2.905696</td>\n",
              "      <td id=\"T_304f1_row1_col3\" class=\"data row1 col3\" >0.000000</td>\n",
              "      <td id=\"T_304f1_row1_col4\" class=\"data row1 col4\" >1.000000</td>\n",
              "      <td id=\"T_304f1_row1_col5\" class=\"data row1 col5\" >3.000000</td>\n",
              "      <td id=\"T_304f1_row1_col6\" class=\"data row1 col6\" >4.000000</td>\n",
              "      <td id=\"T_304f1_row1_col7\" class=\"data row1 col7\" >11.000000</td>\n",
              "    </tr>\n",
              "    <tr>\n",
              "      <th id=\"T_304f1_level0_row2\" class=\"row_heading level0 row2\" >Social_event_attendance</th>\n",
              "      <td id=\"T_304f1_row2_col0\" class=\"data row2 col0\" >18524.000000</td>\n",
              "      <td id=\"T_304f1_row2_col1\" class=\"data row2 col1\" >5.265106</td>\n",
              "      <td id=\"T_304f1_row2_col2\" class=\"data row2 col2\" >2.664215</td>\n",
              "      <td id=\"T_304f1_row2_col3\" class=\"data row2 col3\" >0.000000</td>\n",
              "      <td id=\"T_304f1_row2_col4\" class=\"data row2 col4\" >3.000000</td>\n",
              "      <td id=\"T_304f1_row2_col5\" class=\"data row2 col5\" >5.265106</td>\n",
              "      <td id=\"T_304f1_row2_col6\" class=\"data row2 col6\" >7.000000</td>\n",
              "      <td id=\"T_304f1_row2_col7\" class=\"data row2 col7\" >10.000000</td>\n",
              "    </tr>\n",
              "    <tr>\n",
              "      <th id=\"T_304f1_level0_row3\" class=\"row_heading level0 row3\" >Going_outside</th>\n",
              "      <td id=\"T_304f1_row3_col0\" class=\"data row3 col0\" >18524.000000</td>\n",
              "      <td id=\"T_304f1_row3_col1\" class=\"data row3 col1\" >4.044319</td>\n",
              "      <td id=\"T_304f1_row3_col2\" class=\"data row3 col2\" >1.979276</td>\n",
              "      <td id=\"T_304f1_row3_col3\" class=\"data row3 col3\" >0.000000</td>\n",
              "      <td id=\"T_304f1_row3_col4\" class=\"data row3 col4\" >3.000000</td>\n",
              "      <td id=\"T_304f1_row3_col5\" class=\"data row3 col5\" >4.000000</td>\n",
              "      <td id=\"T_304f1_row3_col6\" class=\"data row3 col6\" >6.000000</td>\n",
              "      <td id=\"T_304f1_row3_col7\" class=\"data row3 col7\" >7.000000</td>\n",
              "    </tr>\n",
              "    <tr>\n",
              "      <th id=\"T_304f1_level0_row4\" class=\"row_heading level0 row4\" >Friends_circle_size</th>\n",
              "      <td id=\"T_304f1_row4_col0\" class=\"data row4 col0\" >18524.000000</td>\n",
              "      <td id=\"T_304f1_row4_col1\" class=\"data row4 col1\" >7.996737</td>\n",
              "      <td id=\"T_304f1_row4_col2\" class=\"data row4 col2\" >4.101561</td>\n",
              "      <td id=\"T_304f1_row4_col3\" class=\"data row4 col3\" >0.000000</td>\n",
              "      <td id=\"T_304f1_row4_col4\" class=\"data row4 col4\" >5.000000</td>\n",
              "      <td id=\"T_304f1_row4_col5\" class=\"data row4 col5\" >8.000000</td>\n",
              "      <td id=\"T_304f1_row4_col6\" class=\"data row4 col6\" >11.000000</td>\n",
              "      <td id=\"T_304f1_row4_col7\" class=\"data row4 col7\" >15.000000</td>\n",
              "    </tr>\n",
              "    <tr>\n",
              "      <th id=\"T_304f1_level0_row5\" class=\"row_heading level0 row5\" >Post_frequency</th>\n",
              "      <td id=\"T_304f1_row5_col0\" class=\"data row5 col0\" >18524.000000</td>\n",
              "      <td id=\"T_304f1_row5_col1\" class=\"data row5 col1\" >4.982097</td>\n",
              "      <td id=\"T_304f1_row5_col2\" class=\"data row5 col2\" >2.779168</td>\n",
              "      <td id=\"T_304f1_row5_col3\" class=\"data row5 col3\" >0.000000</td>\n",
              "      <td id=\"T_304f1_row5_col4\" class=\"data row5 col4\" >3.000000</td>\n",
              "      <td id=\"T_304f1_row5_col5\" class=\"data row5 col5\" >5.000000</td>\n",
              "      <td id=\"T_304f1_row5_col6\" class=\"data row5 col6\" >7.000000</td>\n",
              "      <td id=\"T_304f1_row5_col7\" class=\"data row5 col7\" >10.000000</td>\n",
              "    </tr>\n",
              "  </tbody>\n",
              "</table>\n"
            ]
          },
          "metadata": {},
          "execution_count": 9
        }
      ]
    },
    {
      "cell_type": "markdown",
      "source": [
        "Count of people that are introvert and Stage_fear and Drained_after_socializing = true"
      ],
      "metadata": {
        "id": "oWm_9bf0VfwQ"
      }
    },
    {
      "cell_type": "code",
      "source": [
        "print('Count of people that are introvert and Stage_fear and Drained_after_socializing = true' ,((data['Personality'] == 'Introvert') & (data['Stage_fear'] == 'Yes') & (data['Drained_after_socializing'] == 'Yes')).sum())\n",
        "print('Count of introverts: ', (data['Personality'] == 'Introvert').sum())"
      ],
      "metadata": {
        "id": "qOtX3OfLVxC3",
        "colab": {
          "base_uri": "https://localhost:8080/"
        },
        "outputId": "36222b3e-0ef0-4f44-ee97-78be37aebad1"
      },
      "execution_count": 10,
      "outputs": [
        {
          "output_type": "stream",
          "name": "stdout",
          "text": [
            "Count of people that are introvert and Stage_fear and Drained_after_socializing = true 3125\n",
            "Count of introverts:  4825\n"
          ]
        }
      ]
    },
    {
      "cell_type": "markdown",
      "source": [
        "As we notice the two features effect the classification strongly, yet the other features contribution helps to get the right classification with higher accuracy."
      ],
      "metadata": {
        "id": "6N2uQKyFWjfo"
      }
    },
    {
      "cell_type": "code",
      "source": [
        "data['Stage_fear'] = data['Stage_fear'].replace({'Yes': 1, 'No': 0, 'None': -1})\n",
        "data['Drained_after_socializing'] = data['Drained_after_socializing'].replace({'Yes': 1, 'No': 0, 'None': -1})"
      ],
      "metadata": {
        "id": "GJhNbmU0qxhz",
        "colab": {
          "base_uri": "https://localhost:8080/"
        },
        "outputId": "25d3c177-3b0f-4140-81f4-e345d3fd7267"
      },
      "execution_count": 11,
      "outputs": [
        {
          "output_type": "stream",
          "name": "stderr",
          "text": [
            "/tmp/ipython-input-11-3289870756.py:1: FutureWarning: Downcasting behavior in `replace` is deprecated and will be removed in a future version. To retain the old behavior, explicitly call `result.infer_objects(copy=False)`. To opt-in to the future behavior, set `pd.set_option('future.no_silent_downcasting', True)`\n",
            "  data['Stage_fear'] = data['Stage_fear'].replace({'Yes': 1, 'No': 0, 'None': -1})\n",
            "/tmp/ipython-input-11-3289870756.py:2: FutureWarning: Downcasting behavior in `replace` is deprecated and will be removed in a future version. To retain the old behavior, explicitly call `result.infer_objects(copy=False)`. To opt-in to the future behavior, set `pd.set_option('future.no_silent_downcasting', True)`\n",
            "  data['Drained_after_socializing'] = data['Drained_after_socializing'].replace({'Yes': 1, 'No': 0, 'None': -1})\n"
          ]
        }
      ]
    },
    {
      "cell_type": "code",
      "source": [
        "import seaborn as sns\n",
        "import matplotlib.pyplot as plt\n",
        "\n",
        "df = pd.DataFrame(data = data, columns = ['Time_spent_Alone', 'Social_event_attendance', 'Going_outside', 'Friends_circle_size', 'Post_frequency','Drained_after_socializing','Stage_fear'])\n",
        "\n",
        "sns.heatmap(df.corr(), annot=True)\n",
        "plt.title('Correlation Matrix')\n",
        "plt.show()"
      ],
      "metadata": {
        "id": "245A6tNsnoJg",
        "colab": {
          "base_uri": "https://localhost:8080/",
          "height": 613
        },
        "outputId": "97824d28-0e23-418b-a7e9-b3fb148c6ed0"
      },
      "execution_count": 12,
      "outputs": [
        {
          "output_type": "display_data",
          "data": {
            "text/plain": [
              "<Figure size 640x480 with 2 Axes>"
            ],
            "image/png": "[encoded data removed]"
          },
          "metadata": {}
        }
      ]
    },
    {
      "cell_type": "code",
      "source": [
        "# pie plot Stage_fear\n",
        "plt.pie(data['Stage_fear'].value_counts(), labels=data['Stage_fear'].value_counts().index, autopct='%1.1f%%', colors=['#cc8b86ff','#f9eae1ff','#aa998fff'])\n",
        "plt.title('Stage_fear')\n",
        "plt.show()"
      ],
      "metadata": {
        "id": "Ppsgco19Id2Z",
        "colab": {
          "base_uri": "https://localhost:8080/",
          "height": 428
        },
        "outputId": "f75b413a-3e03-4daa-ce35-858250bea0cf"
      },
      "execution_count": 13,
      "outputs": [
        {
          "output_type": "display_data",
          "data": {
            "text/plain": [
              "<Figure size 640x480 with 1 Axes>"
            ],
            "image/png": "[encoded data removed]"
          },
          "metadata": {}
        }
      ]
    },
    {
      "cell_type": "code",
      "source": [
        "# pie plot Drained_after_socializing\n",
        "plt.pie(data['Drained_after_socializing'].value_counts(), labels=data['Drained_after_socializing'].value_counts().index, autopct='%1.1f%%', colors=['#cc8b86ff','#f9eae1ff','#aa998fff'])\n",
        "plt.title('Drained_after_socializing')\n",
        "plt.show()"
      ],
      "metadata": {
        "id": "PpdocW7SXto_",
        "outputId": "fd96e2cb-4ae9-4a5b-e6c0-2bc2175caab4",
        "colab": {
          "base_uri": "https://localhost:8080/",
          "height": 428
        }
      },
      "execution_count": 14,
      "outputs": [
        {
          "output_type": "display_data",
          "data": {
            "text/plain": [
              "<Figure size 640x480 with 1 Axes>"
            ],
            "image/png": "[encoded data removed]"
          },
          "metadata": {}
        }
      ]
    },
    {
      "cell_type": "code",
      "source": [
        "# bar plot Time_spent_Alone\n",
        "counts = data['Time_spent_Alone'].value_counts().sort_index()\n",
        "plt.figure(figsize=(10, 6))\n",
        "positions = range(len(counts))\n",
        "plt.bar(positions, counts.values, color=['#cc8b86ff', '#f9eae1ff', '#aa998fff'])\n",
        "plt.xticks(positions, counts.index, rotation=45)\n",
        "plt.title('Time_spent_Alone')\n",
        "plt.tight_layout()\n",
        "plt.show()"
      ],
      "metadata": {
        "id": "j5NL-5tRX4pM",
        "outputId": "2c861cd3-69c3-4336-c324-b000738edc85",
        "colab": {
          "base_uri": "https://localhost:8080/",
          "height": 607
        }
      },
      "execution_count": 15,
      "outputs": [
        {
          "output_type": "display_data",
          "data": {
            "text/plain": [
              "<Figure size 1000x600 with 1 Axes>"
            ],
            "image/png": "[encoded data removed]"
          },
          "metadata": {}
        }
      ]
    },
    {
      "cell_type": "code",
      "source": [
        "# bar plot Social_event_attendance\n",
        "counts = data['Social_event_attendance'].value_counts().sort_index()\n",
        "plt.figure(figsize=(10, 6))\n",
        "positions = range(len(counts))\n",
        "plt.bar(positions, counts.values, color=['#cc8b86ff', '#f9eae1ff', '#aa998fff'])\n",
        "plt.xticks(positions, counts.index, rotation=45)\n",
        "plt.title('Social_event_attendance')\n",
        "plt.tight_layout()\n",
        "plt.show()"
      ],
      "metadata": {
        "id": "tdIwzPxhYEpH",
        "outputId": "6f9f7a02-037b-446b-9b9a-0764a98d31f9",
        "colab": {
          "base_uri": "https://localhost:8080/",
          "height": 607
        }
      },
      "execution_count": 16,
      "outputs": [
        {
          "output_type": "display_data",
          "data": {
            "text/plain": [
              "<Figure size 1000x600 with 1 Axes>"
            ],
            "image/png": "[encoded data removed]"
          },
          "metadata": {}
        }
      ]
    },
    {
      "cell_type": "code",
      "source": [
        "# bar plot Friends_circle_size\n",
        "counts = data['Friends_circle_size'].value_counts().sort_index()\n",
        "plt.figure(figsize=(10, 6))\n",
        "positions = range(len(counts))\n",
        "plt.bar(positions, counts.values, color=['#cc8b86ff', '#f9eae1ff', '#aa998fff'])\n",
        "plt.xticks(positions, counts.index, rotation=45)\n",
        "plt.title('Friends_circle_size')\n",
        "plt.tight_layout()\n",
        "plt.show()"
      ],
      "metadata": {
        "id": "3Xx1YX-OYSKU",
        "outputId": "97509d00-0e76-4242-a54d-e1b7455d1e7f",
        "colab": {
          "base_uri": "https://localhost:8080/",
          "height": 607
        }
      },
      "execution_count": 17,
      "outputs": [
        {
          "output_type": "display_data",
          "data": {
            "text/plain": [
              "<Figure size 1000x600 with 1 Axes>"
            ],
            "image/png": "[encoded data removed]"
          },
          "metadata": {}
        }
      ]
    },
    {
      "cell_type": "code",
      "source": [
        "# bar plot Going_outside\n",
        "counts = data['Going_outside'].value_counts().sort_index()\n",
        "plt.figure(figsize=(10, 6))\n",
        "positions = range(len(counts))\n",
        "plt.bar(positions, counts.values, color=['#cc8b86ff', '#f9eae1ff', '#aa998fff'])\n",
        "plt.xticks(positions, counts.index, rotation=45)\n",
        "plt.title('Going_outside')\n",
        "plt.tight_layout()\n",
        "plt.show()"
      ],
      "metadata": {
        "id": "7-oxtnw6ZT44",
        "outputId": "5ddf30c5-ce7f-47f6-d3ee-7bf174656a04",
        "colab": {
          "base_uri": "https://localhost:8080/",
          "height": 607
        }
      },
      "execution_count": 18,
      "outputs": [
        {
          "output_type": "display_data",
          "data": {
            "text/plain": [
              "<Figure size 1000x600 with 1 Axes>"
            ],
            "image/png": "[encoded data removed]"
          },
          "metadata": {}
        }
      ]
    },
    {
      "cell_type": "code",
      "source": [
        "# bar plot Post_frequency\n",
        "counts = data['Post_frequency'].value_counts().sort_index()\n",
        "plt.figure(figsize=(10, 6))\n",
        "positions = range(len(counts))\n",
        "plt.bar(positions, counts.values, color=['#cc8b86ff', '#f9eae1ff', '#aa998fff'])\n",
        "plt.xticks(positions, counts.index, rotation=45)\n",
        "plt.title('Post_frequency')\n",
        "plt.tight_layout()\n",
        "plt.show()"
      ],
      "metadata": {
        "id": "jPZB7HnvZaMh",
        "outputId": "f38357cd-eff5-4d9b-dd83-4e5eee3ac69e",
        "colab": {
          "base_uri": "https://localhost:8080/",
          "height": 607
        }
      },
      "execution_count": 19,
      "outputs": [
        {
          "output_type": "display_data",
          "data": {
            "text/plain": [
              "<Figure size 1000x600 with 1 Axes>"
            ],
            "image/png": "[encoded data removed]"
          },
          "metadata": {}
        }
      ]
    },
    {
      "cell_type": "markdown",
      "source": [
        "## The training process"
      ],
      "metadata": {
        "id": "2CQamMq5XBgx"
      }
    },
    {
      "cell_type": "code",
      "source": [
        "testData = pd.read_csv(\"test.csv\")\n",
        "testData['Drained_after_socializing'] = testData['Drained_after_socializing'].fillna('None')\n",
        "testData['Stage_fear'] = testData['Stage_fear'].fillna('None')\n",
        "testData['Drained_after_socializing'] = testData['Drained_after_socializing'].replace({'Yes': 1, 'No': 0, 'None': -1})\n",
        "testData['Stage_fear'] = testData['Stage_fear'].replace({'Yes': 1, 'No': 0, 'None': -1})\n",
        "testData['Time_spent_Alone'] = testData['Time_spent_Alone'].fillna(testData['Time_spent_Alone'].mean())\n",
        "testData['Social_event_attendance'] = testData['Social_event_attendance'].fillna(testData['Social_event_attendance'].mean())\n",
        "testData['Friends_circle_size'] = testData['Friends_circle_size'].fillna(testData['Friends_circle_size'].mean())\n",
        "testData['Going_outside'] = testData['Going_outside'].fillna(testData['Going_outside'].mean())\n",
        "testData['Post_frequency'] = testData['Post_frequency'].fillna(testData['Post_frequency'].mean())\n",
        "testData"
      ],
      "metadata": {
        "id": "5IAc8cCFXWVu",
        "colab": {
          "base_uri": "https://localhost:8080/",
          "height": 516
        },
        "outputId": "6ae38204-b868-4e0d-e219-4725fb1fc634"
      },
      "execution_count": 20,
      "outputs": [
        {
          "output_type": "stream",
          "name": "stderr",
          "text": [
            "/tmp/ipython-input-20-587970273.py:4: FutureWarning: Downcasting behavior in `replace` is deprecated and will be removed in a future version. To retain the old behavior, explicitly call `result.infer_objects(copy=False)`. To opt-in to the future behavior, set `pd.set_option('future.no_silent_downcasting', True)`\n",
            "  testData['Drained_after_socializing'] = testData['Drained_after_socializing'].replace({'Yes': 1, 'No': 0, 'None': -1})\n",
            "/tmp/ipython-input-20-587970273.py:5: FutureWarning: Downcasting behavior in `replace` is deprecated and will be removed in a future version. To retain the old behavior, explicitly call `result.infer_objects(copy=False)`. To opt-in to the future behavior, set `pd.set_option('future.no_silent_downcasting', True)`\n",
            "  testData['Stage_fear'] = testData['Stage_fear'].replace({'Yes': 1, 'No': 0, 'None': -1})\n"
          ]
        },
        {
          "output_type": "execute_result",
          "data": {
            "text/plain": [
              "         id  Time_spent_Alone  Stage_fear  Social_event_attendance  \\\n",
              "0     18524           3.00000           0                      7.0   \n",
              "1     18525           3.11687           1                      0.0   \n",
              "2     18526           3.00000           0                      5.0   \n",
              "3     18527           3.00000           0                      4.0   \n",
              "4     18528           9.00000           1                      1.0   \n",
              "...     ...               ...         ...                      ...   \n",
              "6170  24694           3.00000           0                      5.0   \n",
              "6171  24695           8.00000           1                      2.0   \n",
              "6172  24696           2.00000           0                      4.0   \n",
              "6173  24697           3.00000           0                      4.0   \n",
              "6174  24698           3.11687           1                      1.0   \n",
              "\n",
              "      Going_outside  Drained_after_socializing  Friends_circle_size  \\\n",
              "0               4.0                          0                  6.0   \n",
              "1               0.0                          1                  5.0   \n",
              "2               6.0                          0                 15.0   \n",
              "3               4.0                          0                  5.0   \n",
              "4               2.0                          1                  1.0   \n",
              "...             ...                        ...                  ...   \n",
              "6170            5.0                          0                  9.0   \n",
              "6171            1.0                          1                  0.0   \n",
              "6172            3.0                          0                  9.0   \n",
              "6173            4.0                          0                 11.0   \n",
              "6174            1.0                          1                  1.0   \n",
              "\n",
              "      Post_frequency  \n",
              "0           5.028958  \n",
              "1           1.000000  \n",
              "2           9.000000  \n",
              "3           6.000000  \n",
              "4           1.000000  \n",
              "...              ...  \n",
              "6170        6.000000  \n",
              "6171        0.000000  \n",
              "6172        7.000000  \n",
              "6173        9.000000  \n",
              "6174        0.000000  \n",
              "\n",
              "[6175 rows x 8 columns]"
            ],
            "text/html": [
              "\n",
              "  <div id=\"df-ccf6e958-3bff-407a-9fdb-3fc6df35bd20\" class=\"colab-df-container\">\n",
              "    <div>\n",
              "<style scoped>\n",
              "    .dataframe tbody tr th:only-of-type {\n",
              "        vertical-align: middle;\n",
              "    }\n",
              "\n",
              "    .dataframe tbody tr th {\n",
              "        vertical-align: top;\n",
              "    }\n",
              "\n",
              "    .dataframe thead th {\n",
              "        text-align: right;\n",
              "    }\n",
              "</style>\n",
              "<table border=\"1\" class=\"dataframe\">\n",
              "  <thead>\n",
              "    <tr style=\"text-align: right;\">\n",
              "      <th></th>\n",
              "      <th>id</th>\n",
              "      <th>Time_spent_Alone</th>\n",
              "      <th>Stage_fear</th>\n",
              "      <th>Social_event_attendance</th>\n",
              "      <th>Going_outside</th>\n",
              "      <th>Drained_after_socializing</th>\n",
              "      <th>Friends_circle_size</th>\n",
              "      <th>Post_frequency</th>\n",
              "    </tr>\n",
              "  </thead>\n",
              "  <tbody>\n",
              "    <tr>\n",
              "      <th>0</th>\n",
              "      <td>18524</td>\n",
              "      <td>3.00000</td>\n",
              "      <td>0</td>\n",
              "      <td>7.0</td>\n",
              "      <td>4.0</td>\n",
              "      <td>0</td>\n",
              "      <td>6.0</td>\n",
              "      <td>5.028958</td>\n",
              "    </tr>\n",
              "    <tr>\n",
              "      <th>1</th>\n",
              "      <td>18525</td>\n",
              "      <td>3.11687</td>\n",
              "      <td>1</td>\n",
              "      <td>0.0</td>\n",
              "      <td>0.0</td>\n",
              "      <td>1</td>\n",
              "      <td>5.0</td>\n",
              "      <td>1.000000</td>\n",
              "    </tr>\n",
              "    <tr>\n",
              "      <th>2</th>\n",
              "      <td>18526</td>\n",
              "      <td>3.00000</td>\n",
              "      <td>0</td>\n",
              "      <td>5.0</td>\n",
              "      <td>6.0</td>\n",
              "      <td>0</td>\n",
              "      <td>15.0</td>\n",
              "      <td>9.000000</td>\n",
              "    </tr>\n",
              "    <tr>\n",
              "      <th>3</th>\n",
              "      <td>18527</td>\n",
              "      <td>3.00000</td>\n",
              "      <td>0</td>\n",
              "      <td>4.0</td>\n",
              "      <td>4.0</td>\n",
              "      <td>0</td>\n",
              "      <td>5.0</td>\n",
              "      <td>6.000000</td>\n",
              "    </tr>\n",
              "    <tr>\n",
              "      <th>4</th>\n",
              "      <td>18528</td>\n",
              "      <td>9.00000</td>\n",
              "      <td>1</td>\n",
              "      <td>1.0</td>\n",
              "      <td>2.0</td>\n",
              "      <td>1</td>\n",
              "      <td>1.0</td>\n",
              "      <td>1.000000</td>\n",
              "    </tr>\n",
              "    <tr>\n",
              "      <th>...</th>\n",
              "      <td>...</td>\n",
              "      <td>...</td>\n",
              "      <td>...</td>\n",
              "      <td>...</td>\n",
              "      <td>...</td>\n",
              "      <td>...</td>\n",
              "      <td>...</td>\n",
              "      <td>...</td>\n",
              "    </tr>\n",
              "    <tr>\n",
              "      <th>6170</th>\n",
              "      <td>24694</td>\n",
              "      <td>3.00000</td>\n",
              "      <td>0</td>\n",
              "      <td>5.0</td>\n",
              "      <td>5.0</td>\n",
              "      <td>0</td>\n",
              "      <td>9.0</td>\n",
              "      <td>6.000000</td>\n",
              "    </tr>\n",
              "    <tr>\n",
              "      <th>6171</th>\n",
              "      <td>24695</td>\n",
              "      <td>8.00000</td>\n",
              "      <td>1</td>\n",
              "      <td>2.0</td>\n",
              "      <td>1.0</td>\n",
              "      <td>1</td>\n",
              "      <td>0.0</td>\n",
              "      <td>0.000000</td>\n",
              "    </tr>\n",
              "    <tr>\n",
              "      <th>6172</th>\n",
              "      <td>24696</td>\n",
              "      <td>2.00000</td>\n",
              "      <td>0</td>\n",
              "      <td>4.0</td>\n",
              "      <td>3.0</td>\n",
              "      <td>0</td>\n",
              "      <td>9.0</td>\n",
              "      <td>7.000000</td>\n",
              "    </tr>\n",
              "    <tr>\n",
              "      <th>6173</th>\n",
              "      <td>24697</td>\n",
              "      <td>3.00000</td>\n",
              "      <td>0</td>\n",
              "      <td>4.0</td>\n",
              "      <td>4.0</td>\n",
              "      <td>0</td>\n",
              "      <td>11.0</td>\n",
              "      <td>9.000000</td>\n",
              "    </tr>\n",
              "    <tr>\n",
              "      <th>6174</th>\n",
              "      <td>24698</td>\n",
              "      <td>3.11687</td>\n",
              "      <td>1</td>\n",
              "      <td>1.0</td>\n",
              "      <td>1.0</td>\n",
              "      <td>1</td>\n",
              "      <td>1.0</td>\n",
              "      <td>0.000000</td>\n",
              "    </tr>\n",
              "  </tbody>\n",
              "</table>\n",
              "<p>6175 rows × 8 columns</p>\n",
              "</div>\n",
              "    <div class=\"colab-df-buttons\">\n",
              "\n",
              "  <div class=\"colab-df-container\">\n",
              "    <button class=\"colab-df-convert\" onclick=\"convertToInteractive('df-ccf6e958-3bff-407a-9fdb-3fc6df35bd20')\"\n",
              "            title=\"Convert this dataframe to an interactive table.\"\n",
              "            style=\"display:none;\">\n",
              "\n",
              "  <svg xmlns=\"http://www.w3.org/2000/svg\" height=\"24px\" viewBox=\"0 -960 960 960\">\n",
              "    <path d=\"M120-120v-720h720v720H120Zm60-500h600v-160H180v160Zm220 220h160v-160H400v160Zm0 220h160v-160H400v160ZM180-400h160v-160H180v160Zm440 0h160v-160H620v160ZM180-180h160v-160H180v160Zm440 0h160v-160H620v160Z\"/>\n",
              "  </svg>\n",
              "    </button>\n",
              "\n",
              "  <style>\n",
              "    .colab-df-container {\n",
              "      display:flex;\n",
              "      gap: 12px;\n",
              "    }\n",
              "\n",
              "    .colab-df-convert {\n",
              "      background-color: #E8F0FE;\n",
              "      border: none;\n",
              "      border-radius: 50%;\n",
              "      cursor: pointer;\n",
              "      display: none;\n",
              "      fill: #1967D2;\n",
              "      height: 32px;\n",
              "      padding: 0 0 0 0;\n",
              "      width: 32px;\n",
              "    }\n",
              "\n",
              "    .colab-df-convert:hover {\n",
              "      background-color: #E2EBFA;\n",
              "      box-shadow: 0px 1px 2px rgba(60, 64, 67, 0.3), 0px 1px 3px 1px rgba(60, 64, 67, 0.15);\n",
              "      fill: #174EA6;\n",
              "    }\n",
              "\n",
              "    .colab-df-buttons div {\n",
              "      margin-bottom: 4px;\n",
              "    }\n",
              "\n",
              "    [theme=dark] .colab-df-convert {\n",
              "      background-color: #3B4455;\n",
              "      fill: #D2E3FC;\n",
              "    }\n",
              "\n",
              "    [theme=dark] .colab-df-convert:hover {\n",
              "      background-color: #434B5C;\n",
              "      box-shadow: 0px 1px 3px 1px rgba(0, 0, 0, 0.15);\n",
              "      filter: drop-shadow(0px 1px 2px rgba(0, 0, 0, 0.3));\n",
              "      fill: #FFFFFF;\n",
              "    }\n",
              "  </style>\n",
              "\n",
              "    <script>\n",
              "      const buttonEl =\n",
              "        document.querySelector('#df-ccf6e958-3bff-407a-9fdb-3fc6df35bd20 button.colab-df-convert');\n",
              "      buttonEl.style.display =\n",
              "        google.colab.kernel.accessAllowed ? 'block' : 'none';\n",
              "\n",
              "      async function convertToInteractive(key) {\n",
              "        const element = document.querySelector('#df-ccf6e958-3bff-407a-9fdb-3fc6df35bd20');\n",
              "        const dataTable =\n",
              "          await google.colab.kernel.invokeFunction('convertToInteractive',\n",
              "                                                    [key], {});\n",
              "        if (!dataTable) return;\n",
              "\n",
              "        const docLinkHtml = 'Like what you see? Visit the ' +\n",
              "          '<a target=\"_blank\" href=https://colab.research.google.com/notebooks/data_table.ipynb>data table notebook</a>'\n",
              "          + ' to learn more about interactive tables.';\n",
              "        element.innerHTML = '';\n",
              "        dataTable['output_type'] = 'display_data';\n",
              "        await google.colab.output.renderOutput(dataTable, element);\n",
              "        const docLink = document.createElement('div');\n",
              "        docLink.innerHTML = docLinkHtml;\n",
              "        element.appendChild(docLink);\n",
              "      }\n",
              "    </script>\n",
              "  </div>\n",
              "\n",
              "\n",
              "    <div id=\"df-052ccc64-394f-4cc1-9573-6e68271122b4\">\n",
              "      <button class=\"colab-df-quickchart\" onclick=\"quickchart('df-052ccc64-394f-4cc1-9573-6e68271122b4')\"\n",
              "                title=\"Suggest charts\"\n",
              "                style=\"display:none;\">\n",
              "\n",
              "<svg xmlns=\"http://www.w3.org/2000/svg\" height=\"24px\"viewBox=\"0 0 24 24\"\n",
              "     width=\"24px\">\n",
              "    <g>\n",
              "        <path d=\"M19 3H5c-1.1 0-2 .9-2 2v14c0 1.1.9 2 2 2h14c1.1 0 2-.9 2-2V5c0-1.1-.9-2-2-2zM9 17H7v-7h2v7zm4 0h-2V7h2v10zm4 0h-2v-4h2v4z\"/>\n",
              "    </g>\n",
              "</svg>\n",
              "      </button>\n",
              "\n",
              "<style>\n",
              "  .colab-df-quickchart {\n",
              "      --bg-color: #E8F0FE;\n",
              "      --fill-color: #1967D2;\n",
              "      --hover-bg-color: #E2EBFA;\n",
              "      --hover-fill-color: #174EA6;\n",
              "      --disabled-fill-color: #AAA;\n",
              "      --disabled-bg-color: #DDD;\n",
              "  }\n",
              "\n",
              "  [theme=dark] .colab-df-quickchart {\n",
              "      --bg-color: #3B4455;\n",
              "      --fill-color: #D2E3FC;\n",
              "      --hover-bg-color: #434B5C;\n",
              "      --hover-fill-color: #FFFFFF;\n",
              "      --disabled-bg-color: #3B4455;\n",
              "      --disabled-fill-color: #666;\n",
              "  }\n",
              "\n",
              "  .colab-df-quickchart {\n",
              "    background-color: var(--bg-color);\n",
              "    border: none;\n",
              "    border-radius: 50%;\n",
              "    cursor: pointer;\n",
              "    display: none;\n",
              "    fill: var(--fill-color);\n",
              "    height: 32px;\n",
              "    padding: 0;\n",
              "    width: 32px;\n",
              "  }\n",
              "\n",
              "  .colab-df-quickchart:hover {\n",
              "    background-color: var(--hover-bg-color);\n",
              "    box-shadow: 0 1px 2px rgba(60, 64, 67, 0.3), 0 1px 3px 1px rgba(60, 64, 67, 0.15);\n",
              "    fill: var(--button-hover-fill-color);\n",
              "  }\n",
              "\n",
              "  .colab-df-quickchart-complete:disabled,\n",
              "  .colab-df-quickchart-complete:disabled:hover {\n",
              "    background-color: var(--disabled-bg-color);\n",
              "    fill: var(--disabled-fill-color);\n",
              "    box-shadow: none;\n",
              "  }\n",
              "\n",
              "  .colab-df-spinner {\n",
              "    border: 2px solid var(--fill-color);\n",
              "    border-color: transparent;\n",
              "    border-bottom-color: var(--fill-color);\n",
              "    animation:\n",
              "      spin 1s steps(1) infinite;\n",
              "  }\n",
              "\n",
              "  @keyframes spin {\n",
              "    0% {\n",
              "      border-color: transparent;\n",
              "      border-bottom-color: var(--fill-color);\n",
              "      border-left-color: var(--fill-color);\n",
              "    }\n",
              "    20% {\n",
              "      border-color: transparent;\n",
              "      border-left-color: var(--fill-color);\n",
              "      border-top-color: var(--fill-color);\n",
              "    }\n",
              "    30% {\n",
              "      border-color: transparent;\n",
              "      border-left-color: var(--fill-color);\n",
              "      border-top-color: var(--fill-color);\n",
              "      border-right-color: var(--fill-color);\n",
              "    }\n",
              "    40% {\n",
              "      border-color: transparent;\n",
              "      border-right-color: var(--fill-color);\n",
              "      border-top-color: var(--fill-color);\n",
              "    }\n",
              "    60% {\n",
              "      border-color: transparent;\n",
              "      border-right-color: var(--fill-color);\n",
              "    }\n",
              "    80% {\n",
              "      border-color: transparent;\n",
              "      border-right-color: var(--fill-color);\n",
              "      border-bottom-color: var(--fill-color);\n",
              "    }\n",
              "    90% {\n",
              "      border-color: transparent;\n",
              "      border-bottom-color: var(--fill-color);\n",
              "    }\n",
              "  }\n",
              "</style>\n",
              "\n",
              "      <script>\n",
              "        async function quickchart(key) {\n",
              "          const quickchartButtonEl =\n",
              "            document.querySelector('#' + key + ' button');\n",
              "          quickchartButtonEl.disabled = true;  // To prevent multiple clicks.\n",
              "          quickchartButtonEl.classList.add('colab-df-spinner');\n",
              "          try {\n",
              "            const charts = await google.colab.kernel.invokeFunction(\n",
              "                'suggestCharts', [key], {});\n",
              "          } catch (error) {\n",
              "            console.error('Error during call to suggestCharts:', error);\n",
              "          }\n",
              "          quickchartButtonEl.classList.remove('colab-df-spinner');\n",
              "          quickchartButtonEl.classList.add('colab-df-quickchart-complete');\n",
              "        }\n",
              "        (() => {\n",
              "          let quickchartButtonEl =\n",
              "            document.querySelector('#df-052ccc64-394f-4cc1-9573-6e68271122b4 button');\n",
              "          quickchartButtonEl.style.display =\n",
              "            google.colab.kernel.accessAllowed ? 'block' : 'none';\n",
              "        })();\n",
              "      </script>\n",
              "    </div>\n",
              "\n",
              "  <div id=\"id_b5ee7347-e4f9-4ea9-bd42-b4f3df7f46ca\">\n",
              "    <style>\n",
              "      .colab-df-generate {\n",
              "        background-color: #E8F0FE;\n",
              "        border: none;\n",
              "        border-radius: 50%;\n",
              "        cursor: pointer;\n",
              "        display: none;\n",
              "        fill: #1967D2;\n",
              "        height: 32px;\n",
              "        padding: 0 0 0 0;\n",
              "        width: 32px;\n",
              "      }\n",
              "\n",
              "      .colab-df-generate:hover {\n",
              "        background-color: #E2EBFA;\n",
              "        box-shadow: 0px 1px 2px rgba(60, 64, 67, 0.3), 0px 1px 3px 1px rgba(60, 64, 67, 0.15);\n",
              "        fill: #174EA6;\n",
              "      }\n",
              "\n",
              "      [theme=dark] .colab-df-generate {\n",
              "        background-color: #3B4455;\n",
              "        fill: #D2E3FC;\n",
              "      }\n",
              "\n",
              "      [theme=dark] .colab-df-generate:hover {\n",
              "        background-color: #434B5C;\n",
              "        box-shadow: 0px 1px 3px 1px rgba(0, 0, 0, 0.15);\n",
              "        filter: drop-shadow(0px 1px 2px rgba(0, 0, 0, 0.3));\n",
              "        fill: #FFFFFF;\n",
              "      }\n",
              "    </style>\n",
              "    <button class=\"colab-df-generate\" onclick=\"generateWithVariable('testData')\"\n",
              "            title=\"Generate code using this dataframe.\"\n",
              "            style=\"display:none;\">\n",
              "\n",
              "  <svg xmlns=\"http://www.w3.org/2000/svg\" height=\"24px\"viewBox=\"0 0 24 24\"\n",
              "       width=\"24px\">\n",
              "    <path d=\"M7,19H8.4L18.45,9,17,7.55,7,17.6ZM5,21V16.75L18.45,3.32a2,2,0,0,1,2.83,0l1.4,1.43a1.91,1.91,0,0,1,.58,1.4,1.91,1.91,0,0,1-.58,1.4L9.25,21ZM18.45,9,17,7.55Zm-12,3A5.31,5.31,0,0,0,4.9,8.1,5.31,5.31,0,0,0,1,6.5,5.31,5.31,0,0,0,4.9,4.9,5.31,5.31,0,0,0,6.5,1,5.31,5.31,0,0,0,8.1,4.9,5.31,5.31,0,0,0,12,6.5,5.46,5.46,0,0,0,6.5,12Z\"/>\n",
              "  </svg>\n",
              "    </button>\n",
              "    <script>\n",
              "      (() => {\n",
              "      const buttonEl =\n",
              "        document.querySelector('#id_b5ee7347-e4f9-4ea9-bd42-b4f3df7f46ca button.colab-df-generate');\n",
              "      buttonEl.style.display =\n",
              "        google.colab.kernel.accessAllowed ? 'block' : 'none';\n",
              "\n",
              "      buttonEl.onclick = () => {\n",
              "        google.colab.notebook.generateWithVariable('testData');\n",
              "      }\n",
              "      })();\n",
              "    </script>\n",
              "  </div>\n",
              "\n",
              "    </div>\n",
              "  </div>\n"
            ],
            "application/vnd.google.colaboratory.intrinsic+json": {
              "type": "dataframe",
              "variable_name": "testData",
              "summary": "{\n  \"name\": \"testData\",\n  \"rows\": 6175,\n  \"fields\": [\n    {\n      \"column\": \"id\",\n      \"properties\": {\n        \"dtype\": \"number\",\n        \"std\": 1782,\n        \"min\": 18524,\n        \"max\": 24698,\n        \"num_unique_values\": 6175,\n        \"samples\": [\n          20926,\n          21186,\n          24626\n        ],\n        \"semantic_type\": \"\",\n        \"description\": \"\"\n      }\n    },\n    {\n      \"column\": \"Time_spent_Alone\",\n      \"properties\": {\n        \"dtype\": \"number\",\n        \"std\": 2.8810637987161827,\n        \"min\": 0.0,\n        \"max\": 11.0,\n        \"num_unique_values\": 13,\n        \"samples\": [\n          6.0,\n          4.0,\n          3.0\n        ],\n        \"semantic_type\": \"\",\n        \"description\": \"\"\n      }\n    },\n    {\n      \"column\": \"Stage_fear\",\n      \"properties\": {\n        \"dtype\": \"number\",\n        \"std\": 0,\n        \"min\": -1,\n        \"max\": 1,\n        \"num_unique_values\": 3,\n        \"samples\": [\n          0,\n          1,\n          -1\n        ],\n        \"semantic_type\": \"\",\n        \"description\": \"\"\n      }\n    },\n    {\n      \"column\": \"Social_event_attendance\",\n      \"properties\": {\n        \"dtype\": \"number\",\n        \"std\": 2.6679050341086286,\n        \"min\": 0.0,\n        \"max\": 10.0,\n        \"num_unique_values\": 12,\n        \"samples\": [\n          3.0,\n          5.287988923502942,\n          7.0\n        ],\n        \"semantic_type\": \"\",\n        \"description\": \"\"\n      }\n    },\n    {\n      \"column\": \"Going_outside\",\n      \"properties\": {\n        \"dtype\": \"number\",\n        \"std\": 1.9665088487587437,\n        \"min\": 0.0,\n        \"max\": 7.0,\n        \"num_unique_values\": 9,\n        \"samples\": [\n          4.03783499737257,\n          0.0,\n          5.0\n        ],\n        \"semantic_type\": \"\",\n        \"description\": \"\"\n      }\n    },\n    {\n      \"column\": \"Drained_after_socializing\",\n      \"properties\": {\n        \"dtype\": \"number\",\n        \"std\": 0,\n        \"min\": -1,\n        \"max\": 1,\n        \"num_unique_values\": 3,\n        \"samples\": [\n          0,\n          1,\n          -1\n        ],\n        \"semantic_type\": \"\",\n        \"description\": \"\"\n      }\n    },\n    {\n      \"column\": \"Friends_circle_size\",\n      \"properties\": {\n        \"dtype\": \"number\",\n        \"std\": 4.072126443176725,\n        \"min\": 0.0,\n        \"max\": 15.0,\n        \"num_unique_values\": 17,\n        \"samples\": [\n          6.0,\n          5.0,\n          4.0\n        ],\n        \"semantic_type\": \"\",\n        \"description\": \"\"\n      }\n    },\n    {\n      \"column\": \"Post_frequency\",\n      \"properties\": {\n        \"dtype\": \"number\",\n        \"std\": 2.770926037285657,\n        \"min\": 0.0,\n        \"max\": 10.0,\n        \"num_unique_values\": 12,\n        \"samples\": [\n          8.0,\n          7.0,\n          5.0289578637073005\n        ],\n        \"semantic_type\": \"\",\n        \"description\": \"\"\n      }\n    }\n  ]\n}"
            }
          },
          "metadata": {},
          "execution_count": 20
        }
      ]
    },
    {
      "cell_type": "code",
      "source": [
        "# split the data train, test\n",
        "from sklearn.model_selection import train_test_split\n",
        "from sklearn.preprocessing import LabelEncoder\n",
        "\n",
        "xTrain = data.drop(['Personality'], axis=1)\n",
        "yTrain = data['Personality']\n",
        "\n",
        "xTrainSplit, xVal, yTrainSplit, yVal = train_test_split(xTrain, yTrain, test_size=0.2, random_state=42)\n",
        "\n",
        "xTest = testData"
      ],
      "metadata": {
        "id": "szLkkEsAmIiJ"
      },
      "execution_count": 21,
      "outputs": []
    },
    {
      "cell_type": "markdown",
      "source": [
        "# **DecisionTreeClassifier**"
      ],
      "metadata": {
        "id": "Y-0poM5PB1Hf"
      }
    },
    {
      "cell_type": "code",
      "source": [
        "from sklearn.model_selection import GridSearchCV\n",
        "from sklearn.tree import DecisionTreeClassifier\n",
        "\n",
        "# tuning the algorithm for the best hyperparameters\n",
        "\n",
        "# param_grid = {\n",
        "#     'max_depth': [None, 5, 10, 20],\n",
        "#     'min_samples_split': [2, 5, 10],\n",
        "#     'min_samples_leaf': [1, 2, 4],\n",
        "#     'criterion': ['gini', 'entropy']\n",
        "# }\n",
        "\n",
        "# tree = DecisionTreeClassifier()\n",
        "# grid_search = GridSearchCV(tree, param_grid, cv=5)\n",
        "# grid_search.fit(xTrainSplit, yTrainSplit)\n",
        "\n",
        "# print(\"Best Parameters:\", grid_search.best_params_)\n",
        "# print(\"Best Score:\", grid_search.best_score_)\n",
        "\n",
        "# output\n",
        "# Best Parameters: {'criterion': 'gini', 'max_depth': 5, 'min_samples_leaf': 2, 'min_samples_split': 10}\n",
        "# Best Score: 0.9681494163509191"
      ],
      "metadata": {
        "id": "H9xmBsT5DH2G"
      },
      "execution_count": 22,
      "outputs": []
    },
    {
      "cell_type": "code",
      "source": [
        "tree = DecisionTreeClassifier(max_depth=5, min_samples_leaf=2, min_samples_split=10, criterion='gini')\n",
        "clf = tree.fit(xTrainSplit, yTrainSplit)\n",
        "yPredDT = clf.predict(xTest)"
      ],
      "metadata": {
        "id": "vKV7EORRm3TJ"
      },
      "execution_count": 23,
      "outputs": []
    },
    {
      "cell_type": "code",
      "source": [
        "from sklearn.metrics import accuracy_score, classification_report\n",
        "yValPred = clf.predict(xVal)\n",
        "\n",
        "print(\"Validation Accuracy:\", accuracy_score(yVal, yValPred))\n",
        "print(\"Validation Report:\\n\", classification_report(yVal, yValPred))"
      ],
      "metadata": {
        "colab": {
          "base_uri": "https://localhost:8080/"
        },
        "id": "2WMgk1Nmrwi6",
        "outputId": "251fc7a9-b06a-4884-e281-c2e6f3518dd7"
      },
      "execution_count": 24,
      "outputs": [
        {
          "output_type": "stream",
          "name": "stdout",
          "text": [
            "Validation Accuracy: 0.9665317139001349\n",
            "Validation Report:\n",
            "               precision    recall  f1-score   support\n",
            "\n",
            "   Extrovert       0.97      0.98      0.98      2753\n",
            "   Introvert       0.95      0.92      0.93       952\n",
            "\n",
            "    accuracy                           0.97      3705\n",
            "   macro avg       0.96      0.95      0.96      3705\n",
            "weighted avg       0.97      0.97      0.97      3705\n",
            "\n"
          ]
        }
      ]
    },
    {
      "cell_type": "markdown",
      "source": [
        "# ***SVC***"
      ],
      "metadata": {
        "id": "OdDCEEUwB5xk"
      }
    },
    {
      "cell_type": "code",
      "source": [
        "print(\"hii\")"
      ],
      "metadata": {
        "id": "Dxkgah5Ab0p7",
        "outputId": "41f4b7ec-1c60-4152-8a00-319f694d818c",
        "colab": {
          "base_uri": "https://localhost:8080/"
        }
      },
      "execution_count": 25,
      "outputs": [
        {
          "output_type": "stream",
          "name": "stdout",
          "text": [
            "hii\n"
          ]
        }
      ]
    },
    {
      "cell_type": "code",
      "source": [
        "# from sklearn.svm import SVC\n",
        "\n",
        "# # tuning the algorithm for the best hyperparameters\n",
        "\n",
        "# param_grid = {\n",
        "#     'C': [1, 10],\n",
        "#     'kernel': ['linear', 'rbf'],\n",
        "# }\n",
        "\n",
        "# svc = SVC()\n",
        "# random_search = GridSearchCV(svc, param_grid, cv=5)\n",
        "# random_search.fit(xTrainSplit, yTrainSplit)\n",
        "\n",
        "# print(\"Best Parameters:\", random_search.best_params_)\n",
        "# print(\"Best Score:\", random_search.best_score_)\n",
        "\n",
        "# tuning is taking so much time > 45mins, so we just skipped this algorithm."
      ],
      "metadata": {
        "id": "S3vu52lSc3eT"
      },
      "execution_count": 26,
      "outputs": []
    },
    {
      "cell_type": "code",
      "source": [
        "# # SVC\n",
        "# svc = SVC()\n",
        "# svc.fit(xTrainSplit, yTrainSplit)\n",
        "# yPredSVC = svc.predict(xTest)\n",
        "\n",
        "# yValPred = svc.predict(xVal)\n",
        "\n",
        "# print(\"Validation Accuracy:\", accuracy_score(yVal, yValPred))\n",
        "# print(\"Validation Report:\\n\", classification_report(yVal, yValPred))"
      ],
      "metadata": {
        "id": "RI0tUQBfB6Q9"
      },
      "execution_count": 27,
      "outputs": []
    },
    {
      "cell_type": "markdown",
      "source": [
        "# **KNN**"
      ],
      "metadata": {
        "id": "ds50aY3seFPQ"
      }
    },
    {
      "cell_type": "code",
      "source": [
        "# KNN\n",
        "# tuning the algorithm for the best hyperparameters\n",
        "from sklearn.neighbors import KNeighborsClassifier\n",
        "\n",
        "# param_grid = {\n",
        "#     'n_neighbors': [3, 5, 7],\n",
        "#     'weights': ['uniform', 'distance'],\n",
        "#     'p': [1, 2]\n",
        "# }\n",
        "\n",
        "# knn = KNeighborsClassifier()\n",
        "# grid_search = GridSearchCV(knn, param_grid, cv=5)\n",
        "# grid_search.fit(xTrainSplit, yTrainSplit)\n",
        "\n",
        "# print(\"Best Parameters:\", grid_search.best_params_)\n",
        "# print(\"Best Score:\", grid_search.best_score_)\n",
        "\n",
        "# output\n",
        "# Best Parameters: {'n_neighbors': 3, 'p': 1, 'weights': 'uniform'}\n",
        "# Best Score: 0.944058525685433"
      ],
      "metadata": {
        "id": "QhK41FqOeHU1",
        "outputId": "7f070508-23fe-4c64-b49b-a3c7c965a8b4",
        "colab": {
          "base_uri": "https://localhost:8080/"
        }
      },
      "execution_count": 28,
      "outputs": [
        {
          "output_type": "stream",
          "name": "stdout",
          "text": [
            "Best Parameters: {'n_neighbors': 3, 'p': 1, 'weights': 'uniform'}\n",
            "Best Score: 0.944058525685433\n"
          ]
        }
      ]
    },
    {
      "cell_type": "code",
      "source": [
        "# KNN\n",
        "knn = KNeighborsClassifier(n_neighbors=3, p=1, weights='uniform')\n",
        "knn.fit(xTrainSplit, yTrainSplit)\n",
        "yPredKNN = knn.predict(xTest)\n",
        "\n",
        "yValPred = knn.predict(xVal)\n",
        "\n",
        "print(\"Validation Accuracy:\", accuracy_score(yVal, yValPred))\n",
        "print(\"Validation Report:\\n\", classification_report(yVal, yValPred))"
      ],
      "metadata": {
        "id": "C-fjJDFBecW2",
        "outputId": "6ce45edb-8863-49c6-976f-943d0699d912",
        "colab": {
          "base_uri": "https://localhost:8080/"
        }
      },
      "execution_count": 31,
      "outputs": [
        {
          "output_type": "stream",
          "name": "stdout",
          "text": [
            "Validation Accuracy: 0.9519568151147099\n",
            "Validation Report:\n",
            "               precision    recall  f1-score   support\n",
            "\n",
            "   Extrovert       0.96      0.98      0.97      2753\n",
            "   Introvert       0.94      0.87      0.90       952\n",
            "\n",
            "    accuracy                           0.95      3705\n",
            "   macro avg       0.95      0.92      0.94      3705\n",
            "weighted avg       0.95      0.95      0.95      3705\n",
            "\n"
          ]
        }
      ]
    },
    {
      "cell_type": "markdown",
      "source": [
        "# **RandomForestClassifier**"
      ],
      "metadata": {
        "id": "EpugblE9CQ4M"
      }
    },
    {
      "cell_type": "code",
      "source": [
        "from sklearn.ensemble import RandomForestClassifier\n",
        "\n",
        "# rfc = RandomForestClassifier()\n",
        "# params = {'n_estimators': [100, 200], 'max_depth': [None, 10, 20]}\n",
        "# grid = GridSearchCV(rfc, params, cv=5)\n",
        "# yPredRFC = grid.fit(xTrainSplit, yTrainSplit)\n",
        "\n",
        "# print(\"Best Parameters:\", grid.best_params_)\n",
        "# print(\"Best Score:\", grid.best_score_)\n",
        "\n",
        "# output\n",
        "# Best Parameters: {'max_depth': 10, 'n_estimators': 200}\n",
        "# Best Score: 0.96902663210637"
      ],
      "metadata": {
        "id": "gnubYJNECRo8",
        "colab": {
          "base_uri": "https://localhost:8080/"
        },
        "outputId": "d3c33ede-0cff-4375-8d01-efbf9d9a908f"
      },
      "execution_count": 29,
      "outputs": [
        {
          "output_type": "stream",
          "name": "stdout",
          "text": [
            "Best Parameters: {'max_depth': 10, 'n_estimators': 200}\n",
            "Best Score: 0.96902663210637\n"
          ]
        }
      ]
    },
    {
      "cell_type": "code",
      "source": [
        "rfc = RandomForestClassifier(max_depth=10, n_estimators=200)\n",
        "rfc.fit(xTrainSplit, yTrainSplit)\n",
        "yPredRFC = rfc.predict(xTest)\n",
        "\n",
        "yValPred = rfc.predict(xVal)\n",
        "\n",
        "print(\"Validation Accuracy:\", accuracy_score(yVal, yValPred))\n",
        "print(\"Validation Report:\\n\", classification_report(yVal, yValPred))"
      ],
      "metadata": {
        "id": "3n2rtHieDUWk",
        "colab": {
          "base_uri": "https://localhost:8080/"
        },
        "outputId": "c574deef-b240-43b8-d686-b8923da881a5"
      },
      "execution_count": 30,
      "outputs": [
        {
          "output_type": "stream",
          "name": "stdout",
          "text": [
            "Validation Accuracy: 0.9681511470985156\n",
            "Validation Report:\n",
            "               precision    recall  f1-score   support\n",
            "\n",
            "   Extrovert       0.98      0.98      0.98      2753\n",
            "   Introvert       0.95      0.93      0.94       952\n",
            "\n",
            "    accuracy                           0.97      3705\n",
            "   macro avg       0.96      0.96      0.96      3705\n",
            "weighted avg       0.97      0.97      0.97      3705\n",
            "\n"
          ]
        }
      ]
    },
    {
      "cell_type": "markdown",
      "source": [
        "## Observations: In the training process, 3 algorithms were employed in order to comapare and get the one that performs the best. The three algorithms are:\n",
        "\n",
        "\n",
        "*   Decision Tree\n",
        "\n",
        "*   k-nearest neigh\n",
        "\n",
        "*   Random Forest\n",
        "\n",
        "The outcome are very close, all of them gave great accuracy and F1 score (>95)\n",
        "\n",
        "I will pick the Random forest predictions.\n",
        "\n",
        "\n",
        "\n",
        "\n"
      ],
      "metadata": {
        "id": "MYFurHLefEig"
      }
    },
    {
      "cell_type": "markdown",
      "source": [
        "## Generate the predictions .csv file"
      ],
      "metadata": {
        "id": "VOaH9T5Ef-Sy"
      }
    },
    {
      "cell_type": "code",
      "source": [
        "predictions = pd.DataFrame({'id': testData['id'], 'Personality': yPredRFC})\n",
        "predictions.to_csv('predictions.csv', index=False)"
      ],
      "metadata": {
        "id": "mtXflC27f915"
      },
      "execution_count": 32,
      "outputs": []
    }
  ]
}